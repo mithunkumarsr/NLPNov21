{
  "nbformat": 4,
  "nbformat_minor": 0,
  "metadata": {
    "colab": {
      "name": "SentAnalysis_VADER_IMDB.ipynb",
      "provenance": [],
      "authorship_tag": "ABX9TyNbCjKglO/HXl+oZqsreaAK",
      "include_colab_link": true
    },
    "kernelspec": {
      "name": "python3",
      "display_name": "Python 3"
    },
    "language_info": {
      "name": "python"
    }
  },
  "cells": [
    {
      "cell_type": "markdown",
      "metadata": {
        "id": "view-in-github",
        "colab_type": "text"
      },
      "source": [
        "<a href=\"https://colab.research.google.com/github/mithunkumarsr/NLPNov21/blob/main/SentAnalysis_VADER_IMDB.ipynb\" target=\"_parent\"><img src=\"https://colab.research.google.com/assets/colab-badge.svg\" alt=\"Open In Colab\"/></a>"
      ]
    },
    {
      "cell_type": "markdown",
      "metadata": {
        "id": "EGGPrMVz6-A4"
      },
      "source": [
        "https://towardsdatascience.com/sentiment-analysis-in-10-minutes-with-rule-based-vader-and-nltk-72067970fb71\n"
      ]
    },
    {
      "cell_type": "code",
      "metadata": {
        "colab": {
          "base_uri": "https://localhost:8080/"
        },
        "id": "Fh18aDQT668f",
        "outputId": "11236cfe-9ba3-4274-cb43-2d3c686e3ab1"
      },
      "source": [
        "import tensorflow as tf\n",
        "\n",
        "(train_data_raw, train_labels), (test_data_raw, test_labels) = tf.keras.datasets.imdb.load_data(index_from=3)\n",
        "words2idx = tf.keras.datasets.imdb.get_word_index()\n",
        "idx2words = {idx:word for word, idx in words2idx.items()}"
      ],
      "execution_count": null,
      "outputs": [
        {
          "output_type": "stream",
          "name": "stdout",
          "text": [
            "Downloading data from https://storage.googleapis.com/tensorflow/tf-keras-datasets/imdb.npz\n",
            "17465344/17464789 [==============================] - 0s 0us/step\n",
            "17473536/17464789 [==============================] - 0s 0us/step\n",
            "Downloading data from https://storage.googleapis.com/tensorflow/tf-keras-datasets/imdb_word_index.json\n",
            "1646592/1641221 [==============================] - 0s 0us/step\n",
            "1654784/1641221 [==============================] - 0s 0us/step\n"
          ]
        }
      ]
    },
    {
      "cell_type": "code",
      "metadata": {
        "colab": {
          "base_uri": "https://localhost:8080/"
        },
        "id": "an6R_mpo7Mb4",
        "outputId": "9b371ce4-690c-4731-d8d3-74da797f95fb"
      },
      "source": [
        "# Let's see an example\n",
        "train_ex = [idx2words[x-3] for x in train_data_raw[0][1:]] # We use x-3 because when we load the data above, we used index_form=3\n",
        "train_ex = ' '.join(train_ex)\n",
        "print(train_ex)"
      ],
      "execution_count": null,
      "outputs": [
        {
          "output_type": "stream",
          "name": "stdout",
          "text": [
            "this film was just brilliant casting location scenery story direction everyone's really suited the part they played and you could just imagine being there robert redford's is an amazing actor and now the same being director norman's father came from the same scottish island as myself so i loved the fact there was a real connection with this film the witty remarks throughout the film were great it was just brilliant so much that i bought the film as soon as it was released for retail and would recommend it to everyone to watch and the fly fishing was amazing really cried at the end it was so sad and you know what they say if you cry at a film it must have been good and this definitely was also congratulations to the two little boy's that played the part's of norman and paul they were just brilliant children are often left out of the praising list i think because the stars that play them all grown up are such a big profile for the whole film but these children are amazing and should be praised for what they have done don't you think the whole story was so lovely because it was true and was someone's life after all that was shared with us all\n"
          ]
        }
      ]
    },
    {
      "cell_type": "code",
      "metadata": {
        "colab": {
          "base_uri": "https://localhost:8080/"
        },
        "id": "KF_YfPRv7UKi",
        "outputId": "f6c4dab5-8dc3-40fb-acff-60ff7f8128ac"
      },
      "source": [
        "imdb_reviews = []\n",
        "for review, label in zip(train_data_raw, train_labels):\n",
        "  try:\n",
        "    tokens = [idx2words[x-3] for x in review[1:]]\n",
        "    text = ' '.join(tokens)\n",
        "    imdb_reviews.append([text, label])\n",
        "  except: # There is a distorted observation. For that, we need to handle the error\n",
        "    print('Small index number')\n",
        "    pass"
      ],
      "execution_count": null,
      "outputs": [
        {
          "output_type": "stream",
          "name": "stdout",
          "text": [
            "Small index number\n"
          ]
        }
      ]
    },
    {
      "cell_type": "code",
      "metadata": {
        "colab": {
          "base_uri": "https://localhost:8080/"
        },
        "id": "_OW_T-az7YUJ",
        "outputId": "75e488aa-b434-4097-9826-961e317babe9"
      },
      "source": [
        "import pandas as pd\n",
        "\n",
        "imdb_df = pd.DataFrame(imdb_reviews,columns=['Text', 'Label'])\n",
        "print(imdb_df.info())\n",
        "print(imdb_df.head(10))"
      ],
      "execution_count": null,
      "outputs": [
        {
          "output_type": "stream",
          "name": "stdout",
          "text": [
            "<class 'pandas.core.frame.DataFrame'>\n",
            "RangeIndex: 24999 entries, 0 to 24998\n",
            "Data columns (total 2 columns):\n",
            " #   Column  Non-Null Count  Dtype \n",
            "---  ------  --------------  ----- \n",
            " 0   Text    24999 non-null  object\n",
            " 1   Label   24999 non-null  int64 \n",
            "dtypes: int64(1), object(1)\n",
            "memory usage: 390.7+ KB\n",
            "None\n",
            "                                                Text  Label\n",
            "0  this film was just brilliant casting location ...      1\n",
            "1  big hair big boobs bad music and a giant safet...      0\n",
            "2  this has to be one of the worst films of the 1...      0\n",
            "3  the scots excel at storytelling the traditiona...      1\n",
            "4  worst mistake of my life br br i picked this m...      0\n",
            "5  begins better than it ends funny that the russ...      0\n",
            "6  lavish production values and solid performance...      1\n",
            "7  the hamiltons tells the story of the four hami...      0\n",
            "8  just got out and cannot believe what a brillia...      1\n",
            "9  this movie has many problem associated with it...      0\n"
          ]
        }
      ]
    },
    {
      "cell_type": "code",
      "metadata": {
        "colab": {
          "base_uri": "https://localhost:8080/"
        },
        "id": "2yJ0bYpE7ndb",
        "outputId": "6f1ec177-170c-4292-9927-115df9aa4fd5"
      },
      "source": [
        "# Loading VADER Sentiment Intensity Analyzer\n",
        "import nltk\n",
        "nltk.download('vader_lexicon')\n",
        "\n",
        "from nltk.sentiment.vader import SentimentIntensityAnalyzer\n",
        "sia = SentimentIntensityAnalyzer()"
      ],
      "execution_count": null,
      "outputs": [
        {
          "output_type": "stream",
          "name": "stdout",
          "text": [
            "[nltk_data] Downloading package vader_lexicon to /root/nltk_data...\n"
          ]
        },
        {
          "output_type": "stream",
          "name": "stderr",
          "text": [
            "/usr/local/lib/python3.7/dist-packages/nltk/twitter/__init__.py:20: UserWarning: The twython library has not been installed. Some functionality from the twitter package will not be available.\n",
            "  warnings.warn(\"The twython library has not been installed. \"\n"
          ]
        }
      ]
    },
    {
      "cell_type": "code",
      "metadata": {
        "colab": {
          "base_uri": "https://localhost:8080/"
        },
        "id": "bNz9JKbi7uz0",
        "outputId": "5c463e36-8f8e-4275-ddf9-352384eeb686"
      },
      "source": [
        "\n",
        "sentences = ['Hello, world. I am terrible']\n",
        "for sentence in sentences:\n",
        "  print(sentence)\n",
        "  ss = sia.polarity_scores(sentence)\n",
        "  for k in sorted(ss):\n",
        "    print('{0}: {1}, '.format(k, ss[k]), end='')"
      ],
      "execution_count": null,
      "outputs": [
        {
          "output_type": "stream",
          "name": "stdout",
          "text": [
            "Hello, world. I am terrible\n",
            "compound: -0.4767, neg: 0.508, neu: 0.492, pos: 0.0, "
          ]
        }
      ]
    },
    {
      "cell_type": "code",
      "metadata": {
        "id": "S4lj3TmZ7-Dy"
      },
      "source": [
        "# Shuffle data, Not really necessary, just for healthy practice\n",
        "imdb_slice = imdb_df.sample(frac=1.0).reset_index(drop=True)"
      ],
      "execution_count": null,
      "outputs": []
    },
    {
      "cell_type": "code",
      "metadata": {
        "id": "rNr2zvzS8GY0"
      },
      "source": [
        "\n",
        "# Create Prediction column based on Polarity Score\n",
        "imdb_slice['Prediction'] = imdb_slice['Text'].apply(lambda x: 1 if sia.polarity_scores(x)['compound'] >= 0 else -1)"
      ],
      "execution_count": null,
      "outputs": []
    },
    {
      "cell_type": "code",
      "metadata": {
        "id": "i68Brdez8Uiz"
      },
      "source": [
        "# Edit Label column 1 for Positive, -1 for Negative\n",
        "imdb_slice['Label'] = imdb_slice['Label'].apply(lambda x: -1 if x == 0 else 1)\n",
        "\n",
        "# Check if the Label column and Prediction column match for accuracy calculation\n",
        "imdb_slice['Accuracy'] = imdb_slice.apply(lambda x: 1 if x[1] == x[2] else 0, axis=1)"
      ],
      "execution_count": null,
      "outputs": []
    },
    {
      "cell_type": "code",
      "metadata": {
        "id": "oSClAKB98bjh"
      },
      "source": [
        "def conf_matrix(x):\n",
        "  if x[1] == 1 and x[2] == 1:\n",
        "    return 'TP'\n",
        "  elif x[1] == 1 and x[2] == -1:\n",
        "    return 'FN'\n",
        "  elif x[1] == -1 and x[2] == 1:\n",
        "    return 'FP'\n",
        "  elif x[1] == -1 and x[2] == -1:\n",
        "    return 'TN'\n",
        "  else:\n",
        "    return 0\n",
        "    \n",
        "imdb_slice['Conf_Matrix'] = imdb_slice.apply(lambda x: conf_matrix(x), axis=1)"
      ],
      "execution_count": null,
      "outputs": []
    },
    {
      "cell_type": "code",
      "metadata": {
        "colab": {
          "base_uri": "https://localhost:8080/",
          "height": 359
        },
        "id": "cvy9O5m08gVm",
        "outputId": "07dcc9d1-d635-447c-d49c-f5f98389d69d"
      },
      "source": [
        "imdb_slice.tail(10)"
      ],
      "execution_count": null,
      "outputs": [
        {
          "output_type": "execute_result",
          "data": {
            "text/html": [
              "<div>\n",
              "<style scoped>\n",
              "    .dataframe tbody tr th:only-of-type {\n",
              "        vertical-align: middle;\n",
              "    }\n",
              "\n",
              "    .dataframe tbody tr th {\n",
              "        vertical-align: top;\n",
              "    }\n",
              "\n",
              "    .dataframe thead th {\n",
              "        text-align: right;\n",
              "    }\n",
              "</style>\n",
              "<table border=\"1\" class=\"dataframe\">\n",
              "  <thead>\n",
              "    <tr style=\"text-align: right;\">\n",
              "      <th></th>\n",
              "      <th>Text</th>\n",
              "      <th>Label</th>\n",
              "      <th>Prediction</th>\n",
              "      <th>Accuracy</th>\n",
              "      <th>Conf_Matrix</th>\n",
              "    </tr>\n",
              "  </thead>\n",
              "  <tbody>\n",
              "    <tr>\n",
              "      <th>24989</th>\n",
              "      <td>one would think that a film about a young pers...</td>\n",
              "      <td>-1</td>\n",
              "      <td>1</td>\n",
              "      <td>0</td>\n",
              "      <td>FP</td>\n",
              "    </tr>\n",
              "    <tr>\n",
              "      <th>24990</th>\n",
              "      <td>kazan's early film noir won an oscar some of t...</td>\n",
              "      <td>1</td>\n",
              "      <td>1</td>\n",
              "      <td>1</td>\n",
              "      <td>TP</td>\n",
              "    </tr>\n",
              "    <tr>\n",
              "      <th>24991</th>\n",
              "      <td>i remember hitch hiking to spain at 25 getting...</td>\n",
              "      <td>1</td>\n",
              "      <td>-1</td>\n",
              "      <td>0</td>\n",
              "      <td>FN</td>\n",
              "    </tr>\n",
              "    <tr>\n",
              "      <th>24992</th>\n",
              "      <td>i really do not know what people have against ...</td>\n",
              "      <td>1</td>\n",
              "      <td>1</td>\n",
              "      <td>1</td>\n",
              "      <td>TP</td>\n",
              "    </tr>\n",
              "    <tr>\n",
              "      <th>24993</th>\n",
              "      <td>this time around blackadder is no longer royal...</td>\n",
              "      <td>1</td>\n",
              "      <td>-1</td>\n",
              "      <td>0</td>\n",
              "      <td>FN</td>\n",
              "    </tr>\n",
              "    <tr>\n",
              "      <th>24994</th>\n",
              "      <td>henri verneuil's film may be not so famous as ...</td>\n",
              "      <td>1</td>\n",
              "      <td>-1</td>\n",
              "      <td>0</td>\n",
              "      <td>FN</td>\n",
              "    </tr>\n",
              "    <tr>\n",
              "      <th>24995</th>\n",
              "      <td>brilliant actor as he is al pacino completely ...</td>\n",
              "      <td>-1</td>\n",
              "      <td>-1</td>\n",
              "      <td>1</td>\n",
              "      <td>TN</td>\n",
              "    </tr>\n",
              "    <tr>\n",
              "      <th>24996</th>\n",
              "      <td>turn your backs away or you're gonna get in bi...</td>\n",
              "      <td>-1</td>\n",
              "      <td>-1</td>\n",
              "      <td>1</td>\n",
              "      <td>TN</td>\n",
              "    </tr>\n",
              "    <tr>\n",
              "      <th>24997</th>\n",
              "      <td>this is an awesome amicus horror anthology wit...</td>\n",
              "      <td>1</td>\n",
              "      <td>1</td>\n",
              "      <td>1</td>\n",
              "      <td>TP</td>\n",
              "    </tr>\n",
              "    <tr>\n",
              "      <th>24998</th>\n",
              "      <td>i may not be the one to review this movie beca...</td>\n",
              "      <td>-1</td>\n",
              "      <td>-1</td>\n",
              "      <td>1</td>\n",
              "      <td>TN</td>\n",
              "    </tr>\n",
              "  </tbody>\n",
              "</table>\n",
              "</div>"
            ],
            "text/plain": [
              "                                                    Text  ...  Conf_Matrix\n",
              "24989  one would think that a film about a young pers...  ...           FP\n",
              "24990  kazan's early film noir won an oscar some of t...  ...           TP\n",
              "24991  i remember hitch hiking to spain at 25 getting...  ...           FN\n",
              "24992  i really do not know what people have against ...  ...           TP\n",
              "24993  this time around blackadder is no longer royal...  ...           FN\n",
              "24994  henri verneuil's film may be not so famous as ...  ...           FN\n",
              "24995  brilliant actor as he is al pacino completely ...  ...           TN\n",
              "24996  turn your backs away or you're gonna get in bi...  ...           TN\n",
              "24997  this is an awesome amicus horror anthology wit...  ...           TP\n",
              "24998  i may not be the one to review this movie beca...  ...           TN\n",
              "\n",
              "[10 rows x 5 columns]"
            ]
          },
          "metadata": {},
          "execution_count": 11
        }
      ]
    },
    {
      "cell_type": "code",
      "metadata": {
        "colab": {
          "base_uri": "https://localhost:8080/"
        },
        "id": "4jwG7T-m8kcZ",
        "outputId": "68a5faa3-fce7-4b3f-c7ef-efd72b232ed4"
      },
      "source": [
        "conf_vals = imdb_slice.Conf_Matrix.value_counts().to_dict()\n",
        "print(conf_vals)\n",
        "\n",
        "accuracy = (conf_vals['TP'] + conf_vals['TN']) / (conf_vals['TP'] + conf_vals['TN'] + conf_vals['FP'] + conf_vals['FN'])\n",
        "precision = conf_vals['TP'] / (conf_vals['TP'] + conf_vals['FP'])\n",
        "recall = conf_vals['TP'] / (conf_vals['TP'] + conf_vals['FN'])\n",
        "f1_score = 2*precision*recall / (precision + recall)\n",
        "print('Accuracy: ', round(100 * accuracy, 2),'%',\n",
        "      '\\nPrecision: ', round(100 * precision, 2),'%',\n",
        "      '\\nRecall: ', round(100 * recall, 2),'%',\n",
        "      '\\nF1 Score: ', round(100 * f1_score, 2),'%')"
      ],
      "execution_count": null,
      "outputs": [
        {
          "output_type": "stream",
          "name": "stdout",
          "text": [
            "{'TP': 10638, 'TN': 6741, 'FP': 5758, 'FN': 1862}\n",
            "Accuracy:  69.52 % \n",
            "Precision:  64.88 % \n",
            "Recall:  85.1 % \n",
            "F1 Score:  73.63 %\n"
          ]
        }
      ]
    }
  ]
}