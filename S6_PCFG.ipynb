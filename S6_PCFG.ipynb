{
  "nbformat": 4,
  "nbformat_minor": 0,
  "metadata": {
    "colab": {
      "name": "S6_PCFG.ipynb",
      "provenance": [],
      "authorship_tag": "ABX9TyMfpyNxz8TxIkKtmpDTIEXn",
      "include_colab_link": true
    },
    "kernelspec": {
      "name": "python3",
      "display_name": "Python 3"
    },
    "language_info": {
      "name": "python"
    }
  },
  "cells": [
    {
      "cell_type": "markdown",
      "metadata": {
        "id": "view-in-github",
        "colab_type": "text"
      },
      "source": [
        "<a href=\"https://colab.research.google.com/github/mithunkumarsr/NLPNov21/blob/main/S6_PCFG.ipynb\" target=\"_parent\"><img src=\"https://colab.research.google.com/assets/colab-badge.svg\" alt=\"Open In Colab\"/></a>"
      ]
    },
    {
      "cell_type": "code",
      "execution_count": null,
      "metadata": {
        "id": "ooySq2P1ddQW"
      },
      "outputs": [],
      "source": [
        "import nltk\n",
        "from nltk.tokenize import word_tokenize\n",
        "import string"
      ]
    },
    {
      "cell_type": "code",
      "source": [
        ""
      ],
      "metadata": {
        "id": "Sji4UbNFlTAY"
      },
      "execution_count": null,
      "outputs": []
    },
    {
      "cell_type": "code",
      "source": [
        "\n",
        "from nltk import pos_tag\n",
        "\n",
        "nltk.download('punkt')\n",
        "nltk.download('averaged_perceptron_tagger')\n",
        "text = \"I am studying NLP\"\n",
        "pos_tag(word_tokenize(text))"
      ],
      "metadata": {
        "colab": {
          "base_uri": "https://localhost:8080/"
        },
        "id": "Ltq_ZKgZdgwQ",
        "outputId": "02c2c48d-1ccf-48a3-b2a8-fe1312d275c1"
      },
      "execution_count": null,
      "outputs": [
        {
          "output_type": "stream",
          "name": "stdout",
          "text": [
            "[nltk_data] Downloading package punkt to /root/nltk_data...\n",
            "[nltk_data]   Package punkt is already up-to-date!\n",
            "[nltk_data] Downloading package averaged_perceptron_tagger to\n",
            "[nltk_data]     /root/nltk_data...\n",
            "[nltk_data]   Package averaged_perceptron_tagger is already up-to-\n",
            "[nltk_data]       date!\n"
          ]
        },
        {
          "output_type": "execute_result",
          "data": {
            "text/plain": [
              "[('I', 'PRP'), ('am', 'VBP'), ('studying', 'VBG'), ('NLP', 'NNP')]"
            ]
          },
          "metadata": {},
          "execution_count": 3
        }
      ]
    },
    {
      "cell_type": "code",
      "source": [
        "grammar = nltk.CFG.fromstring(\"\"\"\n",
        "    S -> NP VP\n",
        "    NP -> Det NP | Adj NP | Adj | N | Adv NP\n",
        "    VP -> V NP  \n",
        "    Det -> \"a\" | \"an\" | \"the\" \n",
        "    V -> \"is\"\n",
        "    Adj -> \"interesting\" | \"very\"\n",
        "    N -> \"NLP\" | \"subject\"\n",
        "    Adv -> \"very\"\n",
        "\"\"\")\n",
        "\n",
        "statement = \"NLP is very interesting\"\n",
        "sentence = word_tokenize(statement)\n",
        "print(sentence)\n",
        "print(nltk.pos_tag(sentence))"
      ],
      "metadata": {
        "colab": {
          "base_uri": "https://localhost:8080/"
        },
        "id": "yFKx2-N2dvvE",
        "outputId": "8ee25ec9-33aa-48fd-f846-5b81ec199c12"
      },
      "execution_count": null,
      "outputs": [
        {
          "output_type": "stream",
          "name": "stdout",
          "text": [
            "['NLP', 'is', 'very', 'interesting']\n",
            "[('NLP', 'NNP'), ('is', 'VBZ'), ('very', 'RB'), ('interesting', 'JJ')]\n"
          ]
        }
      ]
    },
    {
      "cell_type": "code",
      "source": [
        "# Recursive descent parser is a kind of top-down parser \n",
        "# built from a set of mutually recursive procedures \n",
        "# where each such procedure implements one of the nonterminals of the grammar. \n",
        "rd_parser = nltk.RecursiveDescentParser(grammar)\n",
        "total_trees = 0\n",
        "for tree in rd_parser.parse(sentence):\n",
        "    total_trees = total_trees+1\n",
        "    print(tree)\n",
        "    #tree.draw()"
      ],
      "metadata": {
        "colab": {
          "base_uri": "https://localhost:8080/"
        },
        "id": "nCY_7Otjd336",
        "outputId": "1065dd7f-4b17-4f07-ece4-e21a87cb8c01"
      },
      "execution_count": null,
      "outputs": [
        {
          "output_type": "stream",
          "name": "stdout",
          "text": [
            "(S (NP (N NLP)) (VP (V is) (NP (Adj very) (NP (Adj interesting)))))\n",
            "(S (NP (N NLP)) (VP (V is) (NP (Adv very) (NP (Adj interesting)))))\n"
          ]
        }
      ]
    },
    {
      "cell_type": "code",
      "source": [
        "if total_trees > 1 :\n",
        "    print(\"Ambiguious grammar\")\n",
        "else:\n",
        "    print(\"Unambiguious grammar\")    "
      ],
      "metadata": {
        "colab": {
          "base_uri": "https://localhost:8080/"
        },
        "id": "P1NpODTQeAIj",
        "outputId": "00f6d5b6-bca6-4135-d5d5-e8c0cbf94d49"
      },
      "execution_count": null,
      "outputs": [
        {
          "output_type": "stream",
          "name": "stdout",
          "text": [
            "Ambiguious grammar\n"
          ]
        }
      ]
    },
    {
      "cell_type": "markdown",
      "source": [
        " Chart Parser"
      ],
      "metadata": {
        "id": "T-58AJ12eGCS"
      }
    },
    {
      "cell_type": "code",
      "source": [
        "# When a chart parser begins parsing a text, it creates a new (empty) chart, spanning the text. \n",
        "# It then incrementally adds new edges to the chart.  \n",
        "# A set of \"chart rules\" specifies the conditions under which new edges should be added to the chart.\n",
        "# Once the chart reaches a stage where none of the chart rules adds any new edges, parsing is complete.\n",
        "grammar1 = nltk.CFG.fromstring(\"\"\"\n",
        "    S -> NP VP \n",
        "    VP -> V NP | Aux VP | V\n",
        "    NP -> Det NP | N | Adj NP | Adj\n",
        "    N -> \"girl\" | \"boy\"\n",
        "    Det -> \"The\"\n",
        "    Aux -> \"is\"\n",
        "    V -> \"laughing\" | \"playing\" \n",
        "    Adj -> \"laughing\" | \"well\"\n",
        "\"\"\")\n",
        "statement = nltk.word_tokenize(\"The girl is laughing\")\n",
        "print(nltk.pos_tag(statement))"
      ],
      "metadata": {
        "colab": {
          "base_uri": "https://localhost:8080/"
        },
        "id": "MZH2nOFzeH_J",
        "outputId": "bb81d429-6e0a-4792-a160-b88caa417727"
      },
      "execution_count": null,
      "outputs": [
        {
          "output_type": "stream",
          "name": "stdout",
          "text": [
            "[('The', 'DT'), ('girl', 'NN'), ('is', 'VBZ'), ('laughing', 'VBG')]\n"
          ]
        }
      ]
    },
    {
      "cell_type": "code",
      "source": [
        "total_trees = 0\n",
        "rd_parser = nltk.ChartParser(grammar1)\n",
        "for tree in rd_parser.parse(statement):\n",
        "    total_trees = total_trees + 1\n",
        "    print(tree)\n",
        "    #tree.draw()"
      ],
      "metadata": {
        "colab": {
          "base_uri": "https://localhost:8080/"
        },
        "id": "gOE9w7DNeRjJ",
        "outputId": "6550c2c5-be8c-4f8f-a6b1-278160e3f0f3"
      },
      "execution_count": null,
      "outputs": [
        {
          "output_type": "stream",
          "name": "stdout",
          "text": [
            "(S (NP (Det The) (NP (N girl))) (VP (Aux is) (VP (V laughing))))\n"
          ]
        }
      ]
    },
    {
      "cell_type": "code",
      "source": [
        "if total_trees > 1 :\n",
        "    print(\"Ambiguious grammar\")\n",
        "else:\n",
        "    print(\"Unambiguious grammar\")"
      ],
      "metadata": {
        "colab": {
          "base_uri": "https://localhost:8080/"
        },
        "id": "nV0q-ViTeXWA",
        "outputId": "7b18365e-b17e-4336-db75-5425e1bb2bcc"
      },
      "execution_count": null,
      "outputs": [
        {
          "output_type": "stream",
          "name": "stdout",
          "text": [
            "Unambiguious grammar\n"
          ]
        }
      ]
    },
    {
      "cell_type": "code",
      "source": [
        "grammar1 = nltk.CFG.fromstring(\"\"\"\n",
        "    S -> NP VP \n",
        "    VP -> V NP | Aux VP | V NP PP | V\n",
        "    PP -> P NP\n",
        "    NP -> Det NP | N | Adj NP | Adj | Det N PP\n",
        "    N -> \"girl\" | \"boy\" | \"Omkar\" | \"can\" | \"hold\" | \"water\"\n",
        "    Det -> \"The\" | \"a\" | \"the\"\n",
        "    Aux -> \"is\" | \"can\"\n",
        "    P -> \"of\" | \"with\"\n",
        "    V -> \"laughing\" | \"playing\" | \"can\" | \"hold\" | \"water\"\n",
        "    Adj -> \"laughing\" | \"well\"\n",
        "\"\"\")\n",
        "statement = nltk.word_tokenize(\"The can can hold a can of water\")\n",
        "print(nltk.pos_tag(statement))"
      ],
      "metadata": {
        "colab": {
          "base_uri": "https://localhost:8080/"
        },
        "id": "6MR8yV4ueZiH",
        "outputId": "abddbb82-4edb-4be5-f82c-2aa792552a2c"
      },
      "execution_count": null,
      "outputs": [
        {
          "output_type": "stream",
          "name": "stdout",
          "text": [
            "[('The', 'DT'), ('can', 'MD'), ('can', 'MD'), ('hold', 'VB'), ('a', 'DT'), ('can', 'MD'), ('of', 'IN'), ('water', 'NN')]\n"
          ]
        }
      ]
    },
    {
      "cell_type": "code",
      "source": [
        "tree_count = 0\n",
        "chart_parser = nltk.ChartParser(grammar1)\n",
        "for tree in chart_parser.parse(statement):\n",
        "    tree_count = tree_count+1\n",
        "    print(tree)\n",
        "    #tree.draw()"
      ],
      "metadata": {
        "colab": {
          "base_uri": "https://localhost:8080/"
        },
        "id": "eTKOyz9Aec7z",
        "outputId": "5958a5d2-b439-43e4-bbfe-09fa7d76ce2b"
      },
      "execution_count": null,
      "outputs": [
        {
          "output_type": "stream",
          "name": "stdout",
          "text": [
            "(S\n",
            "  (NP (Det The) (NP (N can)))\n",
            "  (VP\n",
            "    (Aux can)\n",
            "    (VP\n",
            "      (V hold)\n",
            "      (NP (Det a) (NP (N can)))\n",
            "      (PP (P of) (NP (N water))))))\n",
            "(S\n",
            "  (NP (Det The) (NP (N can)))\n",
            "  (VP\n",
            "    (Aux can)\n",
            "    (VP (V hold) (NP (Det a) (N can) (PP (P of) (NP (N water)))))))\n"
          ]
        }
      ]
    },
    {
      "cell_type": "code",
      "source": [
        "if tree_count > 1 :\n",
        "    print(\"Ambiguos Sentence\")\n",
        "else :\n",
        "    print(\"Unambiguos Sentence\")"
      ],
      "metadata": {
        "colab": {
          "base_uri": "https://localhost:8080/"
        },
        "id": "JF7m62jzegeW",
        "outputId": "1b6b4ee0-4921-4e7d-c009-6ab9a91b9583"
      },
      "execution_count": null,
      "outputs": [
        {
          "output_type": "stream",
          "name": "stdout",
          "text": [
            "Ambiguos Sentence\n"
          ]
        }
      ]
    },
    {
      "cell_type": "markdown",
      "source": [
        "Probabilitic Context Free Grammar (PCFG)\n",
        "\n",
        "A PCFG consists of a start state and a set of productions with probabilities. The set of terminals and nonterminals is implicitly specified by the productions."
      ],
      "metadata": {
        "id": "DpWV0zlGejUQ"
      }
    },
    {
      "cell_type": "code",
      "source": [
        "from nltk.parse import pchart\n",
        "from nltk.grammar import toy_pcfg2\n",
        "grammar = toy_pcfg2\n",
        "sent = \"Jack saw Bob with the telescope\"\n",
        "parser = pchart.InsideChartParser(grammar)\n",
        "times=[]\n",
        "print('\\n sentence: %s\\n parser: %s\\n grammar_rules: %s' % (sent,parser,grammar))\n",
        "parser.trace(1)"
      ],
      "metadata": {
        "colab": {
          "base_uri": "https://localhost:8080/"
        },
        "id": "lDk7OdCxelJ2",
        "outputId": "bc2f434b-4fd6-4843-dcd1-c80197f69aba"
      },
      "execution_count": null,
      "outputs": [
        {
          "output_type": "stream",
          "name": "stdout",
          "text": [
            "\n",
            " sentence: Jack saw Bob with the telescope\n",
            " parser: <nltk.parse.pchart.InsideChartParser object at 0x7fa131eb5790>\n",
            " grammar_rules: Grammar with 23 productions (start state = S)\n",
            "    S -> NP VP [1.0]\n",
            "    VP -> V NP [0.59]\n",
            "    VP -> V [0.4]\n",
            "    VP -> VP PP [0.01]\n",
            "    NP -> Det N [0.41]\n",
            "    NP -> Name [0.28]\n",
            "    NP -> NP PP [0.31]\n",
            "    PP -> P NP [1.0]\n",
            "    V -> 'saw' [0.21]\n",
            "    V -> 'ate' [0.51]\n",
            "    V -> 'ran' [0.28]\n",
            "    N -> 'boy' [0.11]\n",
            "    N -> 'cookie' [0.12]\n",
            "    N -> 'table' [0.13]\n",
            "    N -> 'telescope' [0.14]\n",
            "    N -> 'hill' [0.5]\n",
            "    Name -> 'Jack' [0.52]\n",
            "    Name -> 'Bob' [0.48]\n",
            "    P -> 'with' [0.61]\n",
            "    P -> 'under' [0.39]\n",
            "    Det -> 'the' [0.41]\n",
            "    Det -> 'a' [0.31]\n",
            "    Det -> 'my' [0.28]\n"
          ]
        }
      ]
    },
    {
      "cell_type": "code",
      "source": [
        "import time\n",
        "t = time.time()\n",
        "tokens = word_tokenize(sent)\n",
        "parses = parser.parse_all(tokens)\n",
        "times.append(time.time()-t)\n",
        "print(\"the time required by the Inside Chart parser  %s \"%(times))"
      ],
      "metadata": {
        "colab": {
          "base_uri": "https://localhost:8080/"
        },
        "id": "6jMiS32_gKMG",
        "outputId": "206bbc01-5f22-4564-a3f7-dd0c13f52bef"
      },
      "execution_count": null,
      "outputs": [
        {
          "output_type": "stream",
          "name": "stdout",
          "text": [
            "  |. . . . . [-]| [5:6] 'telescope'                  [1.0]\n",
            "  |. . . . [-] .| [4:5] 'the'                        [1.0]\n",
            "  |. . . [-] . .| [3:4] 'with'                       [1.0]\n",
            "  |. . [-] . . .| [2:3] 'Bob'                        [1.0]\n",
            "  |. [-] . . . .| [1:2] 'saw'                        [1.0]\n",
            "  |[-] . . . . .| [0:1] 'Jack'                       [1.0]\n",
            "  |. . . [-] . .| [3:4] P  -> 'with' *               [0.61]\n",
            "  |. . . > . . .| [3:3] PP -> * P NP                 [1.0]\n",
            "  |. . . [-> . .| [3:4] PP -> P * NP                 [0.61]\n",
            "  |. . . > . . .| [3:3] P  -> * 'with'               [0.61]\n",
            "  |[-] . . . . .| [0:1] Name -> 'Jack' *             [0.52]\n",
            "  |> . . . . . .| [0:0] Name -> * 'Jack'             [0.52]\n",
            "  |. . [-] . . .| [2:3] Name -> 'Bob' *              [0.48]\n",
            "  |. . > . . . .| [2:2] Name -> * 'Bob'              [0.48]\n",
            "  |. . . . [-] .| [4:5] Det -> 'the' *               [0.41]\n",
            "  |. . . . > . .| [4:4] NP -> * Det N                [0.41]\n",
            "  |. . . . > . .| [4:4] Det -> * 'the'               [0.41]\n",
            "  |. . > . . . .| [2:2] NP -> * Name                 [0.28]\n",
            "  |> . . . . . .| [0:0] NP -> * Name                 [0.28]\n",
            "  |. [-] . . . .| [1:2] V  -> 'saw' *                [0.21]\n",
            "  |. > . . . . .| [1:1] VP -> * V NP                 [0.59]\n",
            "  |. > . . . . .| [1:1] VP -> * V                    [0.4]\n",
            "  |. > . . . . .| [1:1] V  -> * 'saw'                [0.21]\n",
            "  |. . . . [-> .| [4:5] NP -> Det * N                [0.16809999999999997]\n",
            "  |[-] . . . . .| [0:1] NP -> Name *                 [0.1456]\n",
            "  |> . . . . . .| [0:0] S  -> * NP VP                [1.0]\n",
            "  |> . . . . . .| [0:0] NP -> * NP PP                [0.31]\n",
            "  |[-> . . . . .| [0:1] S  -> NP * VP                [0.1456]\n",
            "  |. . . . . [-]| [5:6] N  -> 'telescope' *          [0.14]\n",
            "  |. . . . . > .| [5:5] N  -> * 'telescope'          [0.14]\n",
            "  |. . [-] . . .| [2:3] NP -> Name *                 [0.13440000000000002]\n",
            "  |. . > . . . .| [2:2] S  -> * NP VP                [1.0]\n",
            "  |. . > . . . .| [2:2] NP -> * NP PP                [0.31]\n",
            "  |. . [-> . . .| [2:3] S  -> NP * VP                [0.13440000000000002]\n",
            "  |. [-> . . . .| [1:2] VP -> V * NP                 [0.12389999999999998]\n",
            "  |. [-] . . . .| [1:2] VP -> V *                    [0.084]\n",
            "  |[-> . . . . .| [0:1] NP -> NP * PP                [0.045136]\n",
            "  |. . [-> . . .| [2:3] NP -> NP * PP                [0.04166400000000001]\n",
            "  |. . . . [---]| [4:6] NP -> Det N *                [0.023534]\n",
            "  |. . . . > . .| [4:4] S  -> * NP VP                [1.0]\n",
            "  |. . . . > . .| [4:4] NP -> * NP PP                [0.31]\n",
            "  |. . . . [--->| [4:6] S  -> NP * VP                [0.023534]\n",
            "  |. [---] . . .| [1:3] VP -> V NP *                 [0.01665216]\n",
            "  |. . . [-----]| [3:6] PP -> P NP *                 [0.014355739999999999]\n",
            "  |[---] . . . .| [0:2] S  -> NP VP *                [0.0122304]\n",
            "  |. > . . . . .| [1:1] VP -> * VP PP                [0.01]\n",
            "  |. . . . [--->| [4:6] NP -> NP * PP                [0.00729554]\n",
            "  |[-----] . . .| [0:3] S  -> NP VP *                [0.002424554496]\n",
            "  |. [-> . . . .| [1:2] VP -> VP * PP                [0.00084]\n",
            "  |. . [-------]| [2:6] NP -> NP PP *                [0.0005981175513600001]\n",
            "  |. . [------->| [2:6] S  -> NP * VP                [0.0005981175513600001]\n",
            "  |. . [------->| [2:6] NP -> NP * PP                [0.00018541644092160003]\n",
            "  |. [---> . . .| [1:3] VP -> VP * PP                [0.0001665216]\n",
            "  |. [---------]| [1:6] VP -> V NP *                 [7.410676461350401e-05]\n",
            "  |[===========]| [0:6] S  -> NP VP *                [1.0789944927726183e-05]\n",
            "  |. [---------]| [1:6] VP -> VP PP *                [2.3905407939839997e-06]\n",
            "  |. [--------->| [1:6] VP -> VP * PP                [7.410676461350401e-07]\n",
            "  |[===========]| [0:6] S  -> NP VP *                [3.480627396040704e-07]\n",
            "  |. [--------->| [1:6] VP -> VP * PP                [2.3905407939839997e-08]\n",
            "the time required by the Inside Chart parser  [0.03637123107910156] \n"
          ]
        }
      ]
    },
    {
      "cell_type": "code",
      "source": [
        "import sys, time\n",
        "from nltk import tokenize\n",
        "from nltk.grammar import toy_pcfg1\n",
        "from nltk.parse import pchart\n",
        "from nltk.parse import ViterbiParser\n",
        "\n",
        "demos = [('I saw John with my telescope', toy_pcfg1)]\n",
        "sent, grammar = demos[0]\n",
        "\n",
        "# Tokenize the sentence.\n",
        "tokens = sent.split()\n",
        "\n",
        "# Define a list of parsers.  We'll use all parsers.\n",
        "parsers = [\n",
        "ViterbiParser(grammar),\n",
        "pchart.InsideChartParser(grammar),\n",
        "pchart.RandomChartParser(grammar),\n",
        "pchart.UnsortedChartParser(grammar),\n",
        "pchart.LongestChartParser(grammar),\n",
        "pchart.InsideChartParser(grammar, beam_size = len(tokens)+1)\n",
        "]"
      ],
      "metadata": {
        "id": "vjDbnaPohJb_"
      },
      "execution_count": null,
      "outputs": []
    },
    {
      "cell_type": "code",
      "source": [
        "# Run the parsers on the tokenized sentence.\n",
        "from functools import reduce\n",
        "times = []\n",
        "average_p = []\n",
        "num_parses = []\n",
        "all_parses = {}\n",
        "for parser in parsers:\n",
        "    print('\\ns: %s\\nparser: %s\\ngrammar: %s' % (sent,parser,grammar))\n",
        "    parser.trace(3)\n",
        "    t = time.time()\n",
        "    parses = parser.parse_all(tokens)\n",
        "    times.append(time.time()-t)\n",
        "    if parses: \n",
        "        lp = len(parses)\n",
        "        p = reduce(lambda a,b:a+b.prob(), parses, 0.0)\n",
        "    else: \n",
        "        p = 0\n",
        "    average_p.append(p)\n",
        "    num_parses.append(len(parses))\n",
        "    for p in parses: \n",
        "        all_parses[p.freeze()] = 1\n",
        "\n",
        "# Print summary statistics\n",
        "print()\n",
        "print('-------------------------+------------------------------------------')\n",
        "print('   Parser           Beam | Time (secs)   # Parses   Average P(parse)')\n",
        "print('-------------------------+------------------------------------------')\n",
        "for i in range(len(parsers)):\n",
        "    print('%19s %4d |%11.4f%11d%19.14f' % (parsers[i].__class__.__name__,\n",
        "      getattr(parsers[0], \"beam_size\", 0),\n",
        "      times[i], \n",
        "      num_parses[i], \n",
        "      average_p[i]))\n",
        "parses = all_parses.keys()\n",
        "if parses: \n",
        "    p = reduce(lambda a,b:a+b.prob(), parses, 0)/len(parses)\n",
        "else: \n",
        "    p = 0\n",
        "print('-------------------------+------------------------------------------')\n",
        "print('%19s      |%11s%11d%19.14f' % ('(All Parses)', 'n/a', len(parses), p))\n",
        "print()\n",
        "\n",
        "for parse in parses:\n",
        "    print(parse)"
      ],
      "metadata": {
        "colab": {
          "base_uri": "https://localhost:8080/"
        },
        "id": "Wc_12ziYhKye",
        "outputId": "0ba21627-c274-41ae-9847-8c8ab7d499c2"
      },
      "execution_count": null,
      "outputs": [
        {
          "output_type": "stream",
          "name": "stdout",
          "text": [
            "\n",
            "s: I saw John with my telescope\n",
            "parser: <ViterbiParser for <Grammar with 17 productions>>\n",
            "grammar: Grammar with 17 productions (start state = S)\n",
            "    S -> NP VP [1.0]\n",
            "    NP -> Det N [0.5]\n",
            "    NP -> NP PP [0.25]\n",
            "    NP -> 'John' [0.1]\n",
            "    NP -> 'I' [0.15]\n",
            "    Det -> 'the' [0.8]\n",
            "    Det -> 'my' [0.2]\n",
            "    N -> 'man' [0.5]\n",
            "    N -> 'telescope' [0.5]\n",
            "    VP -> VP PP [0.1]\n",
            "    VP -> V NP [0.7]\n",
            "    VP -> V [0.2]\n",
            "    V -> 'ate' [0.35]\n",
            "    V -> 'saw' [0.65]\n",
            "    PP -> P NP [1.0]\n",
            "    P -> 'with' [0.61]\n",
            "    P -> 'under' [0.39]\n",
            "Inserting tokens into the most likely constituents table...\n",
            "   Insert: |=.....| I\n",
            "   Insert: |.=....| saw\n",
            "   Insert: |..=...| John\n",
            "   Insert: |...=..| with\n",
            "   Insert: |....=.| my\n",
            "   Insert: |.....=| telescope\n",
            "Finding the most likely constituents spanning 1 text elements...\n",
            "   Insert: |=.....| NP -> 'I' [0.15]                0.1500000000 \n",
            "   Insert: |.=....| V -> 'saw' [0.65]               0.6500000000 \n",
            "   Insert: |.=....| VP -> V [0.2]                   0.1300000000 \n",
            "   Insert: |..=...| NP -> 'John' [0.1]              0.1000000000 \n",
            "   Insert: |...=..| P -> 'with' [0.61]              0.6100000000 \n",
            "   Insert: |....=.| Det -> 'my' [0.2]               0.2000000000 \n",
            "   Insert: |.....=| N -> 'telescope' [0.5]          0.5000000000 \n",
            "Finding the most likely constituents spanning 2 text elements...\n",
            "   Insert: |==....| S -> NP VP [1.0]                0.0195000000 \n",
            "   Insert: |.==...| VP -> V NP [0.7]                0.0455000000 \n",
            "   Insert: |....==| NP -> Det N [0.5]               0.0500000000 \n",
            "Finding the most likely constituents spanning 3 text elements...\n",
            "   Insert: |===...| S -> NP VP [1.0]                0.0068250000 \n",
            "   Insert: |...===| PP -> P NP [1.0]                0.0305000000 \n",
            "Finding the most likely constituents spanning 4 text elements...\n",
            "   Insert: |..====| NP -> NP PP [0.25]              0.0007625000 \n",
            "Finding the most likely constituents spanning 5 text elements...\n",
            "   Insert: |.=====| VP -> VP PP [0.1]               0.0001387750 \n",
            "   Insert: |.=====| VP -> V NP [0.7]                0.0003469375 \n",
            "  Discard: |.=====| VP -> VP PP [0.1]               0.0001387750 \n",
            "Finding the most likely constituents spanning 6 text elements...\n",
            "   Insert: |======| S -> NP VP [1.0]                0.0000520406 \n",
            "\n",
            "s: I saw John with my telescope\n",
            "parser: <nltk.parse.pchart.InsideChartParser object at 0x7fa131e8bc50>\n",
            "grammar: Grammar with 17 productions (start state = S)\n",
            "    S -> NP VP [1.0]\n",
            "    NP -> Det N [0.5]\n",
            "    NP -> NP PP [0.25]\n",
            "    NP -> 'John' [0.1]\n",
            "    NP -> 'I' [0.15]\n",
            "    Det -> 'the' [0.8]\n",
            "    Det -> 'my' [0.2]\n",
            "    N -> 'man' [0.5]\n",
            "    N -> 'telescope' [0.5]\n",
            "    VP -> VP PP [0.1]\n",
            "    VP -> V NP [0.7]\n",
            "    VP -> V [0.2]\n",
            "    V -> 'ate' [0.35]\n",
            "    V -> 'saw' [0.65]\n",
            "    PP -> P NP [1.0]\n",
            "    P -> 'with' [0.61]\n",
            "    P -> 'under' [0.39]\n",
            "  |[-] . . . . .| [0:1] 'I'                          [1.0]\n",
            "  |. [-] . . . .| [1:2] 'saw'                        [1.0]\n",
            "  |. . [-] . . .| [2:3] 'John'                       [1.0]\n",
            "  |. . . [-] . .| [3:4] 'with'                       [1.0]\n",
            "  |. . . . [-] .| [4:5] 'my'                         [1.0]\n",
            "  |. . . . . [-]| [5:6] 'telescope'                  [1.0]\n",
            "  |. . . . . [-]| [5:6] 'telescope'                  [1.0]\n",
            "  |. . . . [-] .| [4:5] 'my'                         [1.0]\n",
            "  |. . . [-] . .| [3:4] 'with'                       [1.0]\n",
            "  |. . [-] . . .| [2:3] 'John'                       [1.0]\n",
            "  |. [-] . . . .| [1:2] 'saw'                        [1.0]\n",
            "  |[-] . . . . .| [0:1] 'I'                          [1.0]\n",
            "  |. [-] . . . .| [1:2] V  -> 'saw' *                [0.65]\n",
            "  |. > . . . . .| [1:1] VP -> * V NP                 [0.7]\n",
            "  |. > . . . . .| [1:1] V  -> * 'saw'                [0.65]\n",
            "  |. . . [-] . .| [3:4] P  -> 'with' *               [0.61]\n",
            "  |. . . > . . .| [3:3] PP -> * P NP                 [1.0]\n",
            "  |. . . [-> . .| [3:4] PP -> P * NP                 [0.61]\n",
            "  |. . . > . . .| [3:3] P  -> * 'with'               [0.61]\n",
            "  |. . . . . [-]| [5:6] N  -> 'telescope' *          [0.5]\n",
            "  |. . . . . > .| [5:5] N  -> * 'telescope'          [0.5]\n",
            "  |. [-> . . . .| [1:2] VP -> V * NP                 [0.45499999999999996]\n",
            "  |. > . . . . .| [1:1] VP -> * V                    [0.2]\n",
            "  |. . . . [-] .| [4:5] Det -> 'my' *                [0.2]\n",
            "  |. . . . > . .| [4:4] NP -> * Det N                [0.5]\n",
            "  |. . . . > . .| [4:4] Det -> * 'my'                [0.2]\n",
            "  |[-] . . . . .| [0:1] NP -> 'I' *                  [0.15]\n",
            "  |> . . . . . .| [0:0] S  -> * NP VP                [1.0]\n",
            "  |> . . . . . .| [0:0] NP -> * NP PP                [0.25]\n",
            "  |[-> . . . . .| [0:1] S  -> NP * VP                [0.15]\n",
            "  |> . . . . . .| [0:0] NP -> * 'I'                  [0.15]\n",
            "  |. [-] . . . .| [1:2] VP -> V *                    [0.13]\n",
            "  |. > . . . . .| [1:1] VP -> * VP PP                [0.1]\n",
            "  |. . . . [-> .| [4:5] NP -> Det * N                [0.1]\n",
            "  |. . [-] . . .| [2:3] NP -> 'John' *               [0.1]\n",
            "  |. . > . . . .| [2:2] S  -> * NP VP                [1.0]\n",
            "  |. . > . . . .| [2:2] NP -> * NP PP                [0.25]\n",
            "  |. . [-> . . .| [2:3] S  -> NP * VP                [0.1]\n",
            "  |. . > . . . .| [2:2] NP -> * 'John'               [0.1]\n",
            "  |. . . . [---]| [4:6] NP -> Det N *                [0.05]\n",
            "  |. . . . > . .| [4:4] S  -> * NP VP                [1.0]\n",
            "  |. . . . > . .| [4:4] NP -> * NP PP                [0.25]\n",
            "  |. . . . [--->| [4:6] S  -> NP * VP                [0.05]\n",
            "  |. [---] . . .| [1:3] VP -> V NP *                 [0.0455]\n",
            "  |[-> . . . . .| [0:1] NP -> NP * PP                [0.0375]\n",
            "  |. . . [-----]| [3:6] PP -> P NP *                 [0.0305]\n",
            "  |. . [-> . . .| [2:3] NP -> NP * PP                [0.025]\n",
            "  |[---] . . . .| [0:2] S  -> NP VP *                [0.0195]\n",
            "  |. [-> . . . .| [1:2] VP -> VP * PP                [0.013000000000000001]\n",
            "  |. . . . [--->| [4:6] NP -> NP * PP                [0.0125]\n",
            "  |[-----] . . .| [0:3] S  -> NP VP *                [0.0068249999999999995]\n",
            "  |. [---> . . .| [1:3] VP -> VP * PP                [0.00455]\n",
            "  |. . [-------]| [2:6] NP -> NP PP *                [0.0007625]\n",
            "  |. . [------->| [2:6] S  -> NP * VP                [0.0007625]\n",
            "  |. [---------]| [1:6] VP -> V NP *                 [0.00034693749999999997]\n",
            "  |. . [------->| [2:6] NP -> NP * PP                [0.000190625]\n",
            "  |. [---------]| [1:6] VP -> VP PP *                [0.000138775]\n",
            "  |[===========]| [0:6] S  -> NP VP *                [5.204062499999999e-05]\n",
            "  |. [--------->| [1:6] VP -> VP * PP                [3.469375e-05]\n",
            "  |[===========]| [0:6] S  -> NP VP *                [2.081625e-05]\n",
            "  |. [--------->| [1:6] VP -> VP * PP                [1.38775e-05]\n",
            "\n",
            "s: I saw John with my telescope\n",
            "parser: <nltk.parse.pchart.RandomChartParser object at 0x7fa131e8b190>\n",
            "grammar: Grammar with 17 productions (start state = S)\n",
            "    S -> NP VP [1.0]\n",
            "    NP -> Det N [0.5]\n",
            "    NP -> NP PP [0.25]\n",
            "    NP -> 'John' [0.1]\n",
            "    NP -> 'I' [0.15]\n",
            "    Det -> 'the' [0.8]\n",
            "    Det -> 'my' [0.2]\n",
            "    N -> 'man' [0.5]\n",
            "    N -> 'telescope' [0.5]\n",
            "    VP -> VP PP [0.1]\n",
            "    VP -> V NP [0.7]\n",
            "    VP -> V [0.2]\n",
            "    V -> 'ate' [0.35]\n",
            "    V -> 'saw' [0.65]\n",
            "    PP -> P NP [1.0]\n",
            "    P -> 'with' [0.61]\n",
            "    P -> 'under' [0.39]\n",
            "  |[-] . . . . .| [0:1] 'I'                          [1.0]\n",
            "  |. [-] . . . .| [1:2] 'saw'                        [1.0]\n",
            "  |. . [-] . . .| [2:3] 'John'                       [1.0]\n",
            "  |. . . [-] . .| [3:4] 'with'                       [1.0]\n",
            "  |. . . . [-] .| [4:5] 'my'                         [1.0]\n",
            "  |. . . . . [-]| [5:6] 'telescope'                  [1.0]\n",
            "  |. . . [-] . .| [3:4] 'with'                       [1.0]\n",
            "  |. . . > . . .| [3:3] P  -> * 'with'               [0.61]\n",
            "  |. . . . . [-]| [5:6] 'telescope'                  [1.0]\n",
            "  |. . . . . > .| [5:5] N  -> * 'telescope'          [0.5]\n",
            "  |[-] . . . . .| [0:1] 'I'                          [1.0]\n",
            "  |. [-] . . . .| [1:2] 'saw'                        [1.0]\n",
            "  |> . . . . . .| [0:0] NP -> * 'I'                  [0.15]\n",
            "  |. [-] . . . .| [1:2] V  -> 'saw' *                [0.65]\n",
            "  |. . . [-] . .| [3:4] P  -> 'with' *               [0.61]\n",
            "  |. [-> . . . .| [1:2] VP -> V * NP                 [0.45499999999999996]\n",
            "  |. > . . . . .| [1:1] V  -> * 'saw'                [0.65]\n",
            "  |. > . . . . .| [1:1] VP -> * V NP                 [0.7]\n",
            "  |. . . > . . .| [3:3] PP -> * P NP                 [1.0]\n",
            "  |. . . . . [-]| [5:6] N  -> 'telescope' *          [0.5]\n",
            "  |[-] . . . . .| [0:1] NP -> 'I' *                  [0.15]\n",
            "  |. . [-] . . .| [2:3] 'John'                       [1.0]\n",
            "  |[-> . . . . .| [0:1] NP -> NP * PP                [0.0375]\n",
            "  |> . . . . . .| [0:0] S  -> * NP VP                [1.0]\n",
            "  |. [-] . . . .| [1:2] VP -> V *                    [0.13]\n",
            "  |. > . . . . .| [1:1] VP -> * V                    [0.2]\n",
            "  |. . . [-> . .| [3:4] PP -> P * NP                 [0.61]\n",
            "  |[-> . . . . .| [0:1] S  -> NP * VP                [0.15]\n",
            "  |. > . . . . .| [1:1] VP -> * VP PP                [0.1]\n",
            "  |. [-> . . . .| [1:2] VP -> VP * PP                [0.013000000000000001]\n",
            "  |. . [-] . . .| [2:3] NP -> 'John' *               [0.1]\n",
            "  |. . [-> . . .| [2:3] S  -> NP * VP                [0.1]\n",
            "  |[---] . . . .| [0:2] S  -> NP VP *                [0.0195]\n",
            "  |. . > . . . .| [2:2] S  -> * NP VP                [1.0]\n",
            "  |. [---] . . .| [1:3] VP -> V NP *                 [0.0455]\n",
            "  |> . . . . . .| [0:0] NP -> * NP PP                [0.25]\n",
            "  |. . > . . . .| [2:2] NP -> * 'John'               [0.1]\n",
            "  |. . > . . . .| [2:2] NP -> * NP PP                [0.25]\n",
            "  |. . [-> . . .| [2:3] NP -> NP * PP                [0.025]\n",
            "  |. [---> . . .| [1:3] VP -> VP * PP                [0.00455]\n",
            "  |[-----] . . .| [0:3] S  -> NP VP *                [0.0068249999999999995]\n",
            "  |. . . . [-] .| [4:5] 'my'                         [1.0]\n",
            "  |. . . . > . .| [4:4] Det -> * 'my'                [0.2]\n",
            "  |. . . . [-] .| [4:5] Det -> 'my' *                [0.2]\n",
            "  |. . . . > . .| [4:4] NP -> * Det N                [0.5]\n",
            "  |. . . . [-> .| [4:5] NP -> Det * N                [0.1]\n",
            "  |. . . . [---]| [4:6] NP -> Det N *                [0.05]\n",
            "  |. . . . > . .| [4:4] S  -> * NP VP                [1.0]\n",
            "  |. . . . [--->| [4:6] S  -> NP * VP                [0.05]\n",
            "  |. . . . > . .| [4:4] NP -> * NP PP                [0.25]\n",
            "  |. . . [-----]| [3:6] PP -> P NP *                 [0.0305]\n",
            "  |. [---------]| [1:6] VP -> VP PP *                [0.000138775]\n",
            "  |. [--------->| [1:6] VP -> VP * PP                [1.38775e-05]\n",
            "  |[===========]| [0:6] S  -> NP VP *                [2.081625e-05]\n",
            "  |. . . . [--->| [4:6] NP -> NP * PP                [0.0125]\n",
            "  |. . [-------]| [2:6] NP -> NP PP *                [0.0007625]\n",
            "  |. . [------->| [2:6] S  -> NP * VP                [0.0007625]\n",
            "  |. . [------->| [2:6] NP -> NP * PP                [0.000190625]\n",
            "  |. [---------]| [1:6] VP -> V NP *                 [0.00034693749999999997]\n",
            "  |. [--------->| [1:6] VP -> VP * PP                [3.469375e-05]\n",
            "  |[===========]| [0:6] S  -> NP VP *                [5.204062499999999e-05]\n",
            "\n",
            "s: I saw John with my telescope\n",
            "parser: <nltk.parse.pchart.UnsortedChartParser object at 0x7fa131e8b1d0>\n",
            "grammar: Grammar with 17 productions (start state = S)\n",
            "    S -> NP VP [1.0]\n",
            "    NP -> Det N [0.5]\n",
            "    NP -> NP PP [0.25]\n",
            "    NP -> 'John' [0.1]\n",
            "    NP -> 'I' [0.15]\n",
            "    Det -> 'the' [0.8]\n",
            "    Det -> 'my' [0.2]\n",
            "    N -> 'man' [0.5]\n",
            "    N -> 'telescope' [0.5]\n",
            "    VP -> VP PP [0.1]\n",
            "    VP -> V NP [0.7]\n",
            "    VP -> V [0.2]\n",
            "    V -> 'ate' [0.35]\n",
            "    V -> 'saw' [0.65]\n",
            "    PP -> P NP [1.0]\n",
            "    P -> 'with' [0.61]\n",
            "    P -> 'under' [0.39]\n",
            "  |[-] . . . . .| [0:1] 'I'                          [1.0]\n",
            "  |. [-] . . . .| [1:2] 'saw'                        [1.0]\n",
            "  |. . [-] . . .| [2:3] 'John'                       [1.0]\n",
            "  |. . . [-] . .| [3:4] 'with'                       [1.0]\n",
            "  |. . . . [-] .| [4:5] 'my'                         [1.0]\n",
            "  |. . . . . [-]| [5:6] 'telescope'                  [1.0]\n",
            "  |. . . . . [-]| [5:6] 'telescope'                  [1.0]\n",
            "  |. . . . . [-]| [5:6] N  -> 'telescope' *          [0.5]\n",
            "  |. . . . . > .| [5:5] N  -> * 'telescope'          [0.5]\n",
            "  |. . . . [-] .| [4:5] 'my'                         [1.0]\n",
            "  |. . . . [-] .| [4:5] Det -> 'my' *                [0.2]\n",
            "  |. . . . [-> .| [4:5] NP -> Det * N                [0.1]\n",
            "  |. . . . [---]| [4:6] NP -> Det N *                [0.05]\n",
            "  |. . . . [--->| [4:6] NP -> NP * PP                [0.0125]\n",
            "  |. . . . [--->| [4:6] S  -> NP * VP                [0.05]\n",
            "  |. . . . > . .| [4:4] NP -> * NP PP                [0.25]\n",
            "  |. . . . > . .| [4:4] S  -> * NP VP                [1.0]\n",
            "  |. . . . > . .| [4:4] NP -> * Det N                [0.5]\n",
            "  |. . . . > . .| [4:4] Det -> * 'my'                [0.2]\n",
            "  |. . . [-] . .| [3:4] 'with'                       [1.0]\n",
            "  |. . . [-] . .| [3:4] P  -> 'with' *               [0.61]\n",
            "  |. . . [-> . .| [3:4] PP -> P * NP                 [0.61]\n",
            "  |. . . [-----]| [3:6] PP -> P NP *                 [0.0305]\n",
            "  |. . . > . . .| [3:3] PP -> * P NP                 [1.0]\n",
            "  |. . . > . . .| [3:3] P  -> * 'with'               [0.61]\n",
            "  |. . [-] . . .| [2:3] 'John'                       [1.0]\n",
            "  |. . [-] . . .| [2:3] NP -> 'John' *               [0.1]\n",
            "  |. . [-> . . .| [2:3] NP -> NP * PP                [0.025]\n",
            "  |. . [-------]| [2:6] NP -> NP PP *                [0.0007625]\n",
            "  |. . [------->| [2:6] NP -> NP * PP                [0.000190625]\n",
            "  |. . [------->| [2:6] S  -> NP * VP                [0.0007625]\n",
            "  |. . [-> . . .| [2:3] S  -> NP * VP                [0.1]\n",
            "  |. . > . . . .| [2:2] NP -> * NP PP                [0.25]\n",
            "  |. . > . . . .| [2:2] S  -> * NP VP                [1.0]\n",
            "  |. . > . . . .| [2:2] NP -> * 'John'               [0.1]\n",
            "  |. [-] . . . .| [1:2] 'saw'                        [1.0]\n",
            "  |. [-] . . . .| [1:2] V  -> 'saw' *                [0.65]\n",
            "  |. [-] . . . .| [1:2] VP -> V *                    [0.13]\n",
            "  |. [-> . . . .| [1:2] VP -> VP * PP                [0.013000000000000001]\n",
            "  |. > . . . . .| [1:1] VP -> * VP PP                [0.1]\n",
            "  |. [-> . . . .| [1:2] VP -> V * NP                 [0.45499999999999996]\n",
            "  |. [---------]| [1:6] VP -> V NP *                 [0.00034693749999999997]\n",
            "  |. [--------->| [1:6] VP -> VP * PP                [3.469375e-05]\n",
            "  |. [---] . . .| [1:3] VP -> V NP *                 [0.0455]\n",
            "  |. [---> . . .| [1:3] VP -> VP * PP                [0.00455]\n",
            "  |. [---------]| [1:6] VP -> VP PP *                [0.000138775]\n",
            "  |. [--------->| [1:6] VP -> VP * PP                [1.38775e-05]\n",
            "  |. > . . . . .| [1:1] VP -> * V                    [0.2]\n",
            "  |. > . . . . .| [1:1] VP -> * V NP                 [0.7]\n",
            "  |. > . . . . .| [1:1] V  -> * 'saw'                [0.65]\n",
            "  |[-] . . . . .| [0:1] 'I'                          [1.0]\n",
            "  |[-] . . . . .| [0:1] NP -> 'I' *                  [0.15]\n",
            "  |[-> . . . . .| [0:1] NP -> NP * PP                [0.0375]\n",
            "  |[-> . . . . .| [0:1] S  -> NP * VP                [0.15]\n",
            "  |[===========]| [0:6] S  -> NP VP *                [2.081625e-05]\n",
            "  |[===========]| [0:6] S  -> NP VP *                [5.204062499999999e-05]\n",
            "  |[-----] . . .| [0:3] S  -> NP VP *                [0.0068249999999999995]\n",
            "  |[---] . . . .| [0:2] S  -> NP VP *                [0.0195]\n",
            "  |> . . . . . .| [0:0] NP -> * NP PP                [0.25]\n",
            "  |> . . . . . .| [0:0] S  -> * NP VP                [1.0]\n",
            "  |> . . . . . .| [0:0] NP -> * 'I'                  [0.15]\n",
            "\n",
            "s: I saw John with my telescope\n",
            "parser: <nltk.parse.pchart.LongestChartParser object at 0x7fa131e8b610>\n",
            "grammar: Grammar with 17 productions (start state = S)\n",
            "    S -> NP VP [1.0]\n",
            "    NP -> Det N [0.5]\n",
            "    NP -> NP PP [0.25]\n",
            "    NP -> 'John' [0.1]\n",
            "    NP -> 'I' [0.15]\n",
            "    Det -> 'the' [0.8]\n",
            "    Det -> 'my' [0.2]\n",
            "    N -> 'man' [0.5]\n",
            "    N -> 'telescope' [0.5]\n",
            "    VP -> VP PP [0.1]\n",
            "    VP -> V NP [0.7]\n",
            "    VP -> V [0.2]\n",
            "    V -> 'ate' [0.35]\n",
            "    V -> 'saw' [0.65]\n",
            "    PP -> P NP [1.0]\n",
            "    P -> 'with' [0.61]\n",
            "    P -> 'under' [0.39]\n",
            "  |[-] . . . . .| [0:1] 'I'                          [1.0]\n",
            "  |. [-] . . . .| [1:2] 'saw'                        [1.0]\n",
            "  |. . [-] . . .| [2:3] 'John'                       [1.0]\n",
            "  |. . . [-] . .| [3:4] 'with'                       [1.0]\n",
            "  |. . . . [-] .| [4:5] 'my'                         [1.0]\n",
            "  |. . . . . [-]| [5:6] 'telescope'                  [1.0]\n",
            "  |. . . . . [-]| [5:6] 'telescope'                  [1.0]\n",
            "  |. . . . . [-]| [5:6] N  -> 'telescope' *          [0.5]\n",
            "  |. . . . [-] .| [4:5] 'my'                         [1.0]\n",
            "  |. . . . [-] .| [4:5] Det -> 'my' *                [0.2]\n",
            "  |. . . . [-> .| [4:5] NP -> Det * N                [0.1]\n",
            "  |. . . . [---]| [4:6] NP -> Det N *                [0.05]\n",
            "  |. . . . [--->| [4:6] NP -> NP * PP                [0.0125]\n",
            "  |. . . . [--->| [4:6] S  -> NP * VP                [0.05]\n",
            "  |. . . [-] . .| [3:4] 'with'                       [1.0]\n",
            "  |. . . [-] . .| [3:4] P  -> 'with' *               [0.61]\n",
            "  |. . . [-> . .| [3:4] PP -> P * NP                 [0.61]\n",
            "  |. . . [-----]| [3:6] PP -> P NP *                 [0.0305]\n",
            "  |. . [-] . . .| [2:3] 'John'                       [1.0]\n",
            "  |. . [-] . . .| [2:3] NP -> 'John' *               [0.1]\n",
            "  |. . [-> . . .| [2:3] NP -> NP * PP                [0.025]\n",
            "  |. . [-------]| [2:6] NP -> NP PP *                [0.0007625]\n",
            "  |. . [------->| [2:6] NP -> NP * PP                [0.000190625]\n",
            "  |. . [------->| [2:6] S  -> NP * VP                [0.0007625]\n",
            "  |. . [-> . . .| [2:3] S  -> NP * VP                [0.1]\n",
            "  |. [-] . . . .| [1:2] 'saw'                        [1.0]\n",
            "  |. [-] . . . .| [1:2] V  -> 'saw' *                [0.65]\n",
            "  |. [-] . . . .| [1:2] VP -> V *                    [0.13]\n",
            "  |. [-> . . . .| [1:2] VP -> VP * PP                [0.013000000000000001]\n",
            "  |. [-> . . . .| [1:2] VP -> V * NP                 [0.45499999999999996]\n",
            "  |. [---------]| [1:6] VP -> V NP *                 [0.00034693749999999997]\n",
            "  |. [--------->| [1:6] VP -> VP * PP                [3.469375e-05]\n",
            "  |. [---] . . .| [1:3] VP -> V NP *                 [0.0455]\n",
            "  |. [---> . . .| [1:3] VP -> VP * PP                [0.00455]\n",
            "  |. [---------]| [1:6] VP -> VP PP *                [0.000138775]\n",
            "  |. [--------->| [1:6] VP -> VP * PP                [1.38775e-05]\n",
            "  |[-] . . . . .| [0:1] 'I'                          [1.0]\n",
            "  |[-] . . . . .| [0:1] NP -> 'I' *                  [0.15]\n",
            "  |[-> . . . . .| [0:1] NP -> NP * PP                [0.0375]\n",
            "  |[-> . . . . .| [0:1] S  -> NP * VP                [0.15]\n",
            "  |[===========]| [0:6] S  -> NP VP *                [2.081625e-05]\n",
            "  |[===========]| [0:6] S  -> NP VP *                [5.204062499999999e-05]\n",
            "  |[-----] . . .| [0:3] S  -> NP VP *                [0.0068249999999999995]\n",
            "  |[---] . . . .| [0:2] S  -> NP VP *                [0.0195]\n",
            "  |> . . . . . .| [0:0] NP -> * NP PP                [0.25]\n",
            "  |> . . . . . .| [0:0] S  -> * NP VP                [1.0]\n",
            "  |> . . . . . .| [0:0] NP -> * 'I'                  [0.15]\n",
            "  |. > . . . . .| [1:1] VP -> * VP PP                [0.1]\n",
            "  |. > . . . . .| [1:1] VP -> * V                    [0.2]\n",
            "  |. > . . . . .| [1:1] VP -> * V NP                 [0.7]\n",
            "  |. > . . . . .| [1:1] V  -> * 'saw'                [0.65]\n",
            "  |. . > . . . .| [2:2] NP -> * NP PP                [0.25]\n",
            "  |. . > . . . .| [2:2] S  -> * NP VP                [1.0]\n",
            "  |. . > . . . .| [2:2] NP -> * 'John'               [0.1]\n",
            "  |. . . > . . .| [3:3] PP -> * P NP                 [1.0]\n",
            "  |. . . > . . .| [3:3] P  -> * 'with'               [0.61]\n",
            "  |. . . . > . .| [4:4] NP -> * NP PP                [0.25]\n",
            "  |. . . . > . .| [4:4] S  -> * NP VP                [1.0]\n",
            "  |. . . . > . .| [4:4] NP -> * Det N                [0.5]\n",
            "  |. . . . > . .| [4:4] Det -> * 'my'                [0.2]\n",
            "  |. . . . . > .| [5:5] N  -> * 'telescope'          [0.5]\n",
            "\n",
            "s: I saw John with my telescope\n",
            "parser: <nltk.parse.pchart.InsideChartParser object at 0x7fa131e8b210>\n",
            "grammar: Grammar with 17 productions (start state = S)\n",
            "    S -> NP VP [1.0]\n",
            "    NP -> Det N [0.5]\n",
            "    NP -> NP PP [0.25]\n",
            "    NP -> 'John' [0.1]\n",
            "    NP -> 'I' [0.15]\n",
            "    Det -> 'the' [0.8]\n",
            "    Det -> 'my' [0.2]\n",
            "    N -> 'man' [0.5]\n",
            "    N -> 'telescope' [0.5]\n",
            "    VP -> VP PP [0.1]\n",
            "    VP -> V NP [0.7]\n",
            "    VP -> V [0.2]\n",
            "    V -> 'ate' [0.35]\n",
            "    V -> 'saw' [0.65]\n",
            "    PP -> P NP [1.0]\n",
            "    P -> 'with' [0.61]\n",
            "    P -> 'under' [0.39]\n",
            "  |[-] . . . . .| [0:1] 'I'                          [1.0]\n",
            "  |. [-] . . . .| [1:2] 'saw'                        [1.0]\n",
            "  |. . [-] . . .| [2:3] 'John'                       [1.0]\n",
            "  |. . . [-] . .| [3:4] 'with'                       [1.0]\n",
            "  |. . . . [-] .| [4:5] 'my'                         [1.0]\n",
            "  |. . . . . [-]| [5:6] 'telescope'                  [1.0]\n",
            "  |. . . . . [-]| [5:6] 'telescope'                  [1.0]\n",
            "  |. . . . [-] .| [4:5] 'my'                         [1.0]\n",
            "  |. . . . > . .| [4:4] Det -> * 'my'                [DISCARDED]\n",
            "  |. . . [-] . .| [3:4] 'with'                       [1.0]\n",
            "  |. . . . [-] .| [4:5] Det -> 'my' *                [DISCARDED]\n",
            "  |. . [-] . . .| [2:3] 'John'                       [1.0]\n",
            "  |. . > . . . .| [2:2] NP -> * 'John'               [DISCARDED]\n",
            "  |. [-] . . . .| [1:2] 'saw'                        [1.0]\n",
            "  |. . [-] . . .| [2:3] NP -> 'John' *               [DISCARDED]\n",
            "  |[-] . . . . .| [0:1] 'I'                          [1.0]\n",
            "  |> . . . . . .| [0:0] NP -> * 'I'                  [DISCARDED]\n",
            "  |. [-] . . . .| [1:2] V  -> 'saw' *                [0.65]\n",
            "  |. [-] . . . .| [1:2] VP -> V *                    [DISCARDED]\n",
            "  |[-] . . . . .| [0:1] NP -> 'I' *                  [DISCARDED]\n",
            "  |. > . . . . .| [1:1] VP -> * V                    [DISCARDED]\n",
            "  |. > . . . . .| [1:1] VP -> * V NP                 [0.7]\n",
            "  |. > . . . . .| [1:1] V  -> * 'saw'                [0.65]\n",
            "  |. . . [-] . .| [3:4] P  -> 'with' *               [0.61]\n",
            "  |. . . > . . .| [3:3] PP -> * P NP                 [1.0]\n",
            "  |. . . [-> . .| [3:4] PP -> P * NP                 [0.61]\n",
            "  |. . . > . . .| [3:3] P  -> * 'with'               [0.61]\n",
            "  |. . . . . [-]| [5:6] N  -> 'telescope' *          [0.5]\n",
            "  |. . . . . > .| [5:5] N  -> * 'telescope'          [0.5]\n",
            "  |. [-> . . . .| [1:2] VP -> V * NP                 [0.45499999999999996]\n",
            "  |. [---] . . .| [1:3] VP -> V NP *                 [0.0455]\n",
            "  |. > . . . . .| [1:1] VP -> * VP PP                [0.1]\n",
            "  |. [-> . . . .| [1:2] VP -> VP * PP                [0.013000000000000001]\n",
            "  |. [---> . . .| [1:3] VP -> VP * PP                [0.00455]\n",
            "\n",
            "-------------------------+------------------------------------------\n",
            "   Parser           Beam | Time (secs)   # Parses   Average P(parse)\n",
            "-------------------------+------------------------------------------\n",
            "      ViterbiParser    0 |     0.0090          1   0.00005204062500\n",
            "  InsideChartParser    0 |     0.0070          2   0.00007285687500\n",
            "  RandomChartParser    0 |     0.0099          2   0.00007285687500\n",
            "UnsortedChartParser    0 |     0.0077          2   0.00007285687500\n",
            " LongestChartParser    0 |     0.0070          2   0.00007285687500\n",
            "  InsideChartParser    0 |     0.0042          0   0.00000000000000\n",
            "-------------------------+------------------------------------------\n",
            "       (All Parses)      |        n/a          2   0.00003642843750\n",
            "\n",
            "(S\n",
            "  (NP I)\n",
            "  (VP\n",
            "    (V saw)\n",
            "    (NP\n",
            "      (NP John)\n",
            "      (PP (P with) (NP (Det my) (N telescope)))))) [5.204062499999999e-05]\n",
            "(S\n",
            "  (NP I)\n",
            "  (VP\n",
            "    (VP (V saw) (NP John))\n",
            "    (PP (P with) (NP (Det my) (N telescope))))) [2.081625e-05]\n"
          ]
        }
      ]
    }
  ]
}