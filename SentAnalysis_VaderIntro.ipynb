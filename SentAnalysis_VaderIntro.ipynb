{
  "nbformat": 4,
  "nbformat_minor": 0,
  "metadata": {
    "colab": {
      "name": "SentAnalysis_VaderIntro.ipynb",
      "provenance": [],
      "authorship_tag": "ABX9TyPAqMaPD78K1qRvS+RZG+02",
      "include_colab_link": true
    },
    "kernelspec": {
      "name": "python3",
      "display_name": "Python 3"
    },
    "language_info": {
      "name": "python"
    }
  },
  "cells": [
    {
      "cell_type": "markdown",
      "metadata": {
        "id": "view-in-github",
        "colab_type": "text"
      },
      "source": [
        "<a href=\"https://colab.research.google.com/github/mithunkumarsr/NLPNov21/blob/main/SentAnalysis_VaderIntro.ipynb\" target=\"_parent\"><img src=\"https://colab.research.google.com/assets/colab-badge.svg\" alt=\"Open In Colab\"/></a>"
      ]
    },
    {
      "cell_type": "markdown",
      "source": [
        "https://analyticsindiamag.com/sentiment-analysis-made-easy-using-vader/#:~:text=VADER%20(Valence%20Aware%20Dictionary%20and,the%20polarities%20i.e.%20positive%2Fnegative."
      ],
      "metadata": {
        "id": "IA2l3BdkxK42"
      }
    },
    {
      "cell_type": "code",
      "metadata": {
        "colab": {
          "base_uri": "https://localhost:8080/"
        },
        "id": "GyJduf656_5y",
        "outputId": "de5835e9-396d-4c25-c3d1-d799e884ad1e"
      },
      "source": [
        "!pip install vaderSentiment"
      ],
      "execution_count": null,
      "outputs": [
        {
          "output_type": "stream",
          "name": "stdout",
          "text": [
            "Collecting vaderSentiment\n",
            "  Downloading vaderSentiment-3.3.2-py2.py3-none-any.whl (125 kB)\n",
            "\u001b[?25l\r\u001b[K     |██▋                             | 10 kB 25.3 MB/s eta 0:00:01\r\u001b[K     |█████▏                          | 20 kB 27.5 MB/s eta 0:00:01\r\u001b[K     |███████▉                        | 30 kB 17.6 MB/s eta 0:00:01\r\u001b[K     |██████████▍                     | 40 kB 15.2 MB/s eta 0:00:01\r\u001b[K     |█████████████                   | 51 kB 5.5 MB/s eta 0:00:01\r\u001b[K     |███████████████▋                | 61 kB 6.0 MB/s eta 0:00:01\r\u001b[K     |██████████████████▏             | 71 kB 5.5 MB/s eta 0:00:01\r\u001b[K     |████████████████████▉           | 81 kB 6.1 MB/s eta 0:00:01\r\u001b[K     |███████████████████████▍        | 92 kB 6.0 MB/s eta 0:00:01\r\u001b[K     |██████████████████████████      | 102 kB 5.3 MB/s eta 0:00:01\r\u001b[K     |████████████████████████████▋   | 112 kB 5.3 MB/s eta 0:00:01\r\u001b[K     |███████████████████████████████▏| 122 kB 5.3 MB/s eta 0:00:01\r\u001b[K     |████████████████████████████████| 125 kB 5.3 MB/s \n",
            "\u001b[?25hRequirement already satisfied: requests in /usr/local/lib/python3.7/dist-packages (from vaderSentiment) (2.23.0)\n",
            "Requirement already satisfied: certifi>=2017.4.17 in /usr/local/lib/python3.7/dist-packages (from requests->vaderSentiment) (2021.5.30)\n",
            "Requirement already satisfied: urllib3!=1.25.0,!=1.25.1,<1.26,>=1.21.1 in /usr/local/lib/python3.7/dist-packages (from requests->vaderSentiment) (1.24.3)\n",
            "Requirement already satisfied: chardet<4,>=3.0.2 in /usr/local/lib/python3.7/dist-packages (from requests->vaderSentiment) (3.0.4)\n",
            "Requirement already satisfied: idna<3,>=2.5 in /usr/local/lib/python3.7/dist-packages (from requests->vaderSentiment) (2.10)\n",
            "Installing collected packages: vaderSentiment\n",
            "Successfully installed vaderSentiment-3.3.2\n"
          ]
        }
      ]
    },
    {
      "cell_type": "code",
      "metadata": {
        "colab": {
          "base_uri": "https://localhost:8080/"
        },
        "id": "iM-cwtXt7JPX",
        "outputId": "35ca570b-709c-407c-ca27-6002f5a0d2df"
      },
      "source": [
        "import nltk\n",
        "nltk.download('vader_lexicon')"
      ],
      "execution_count": null,
      "outputs": [
        {
          "output_type": "stream",
          "name": "stdout",
          "text": [
            "[nltk_data] Downloading package vader_lexicon to /root/nltk_data...\n"
          ]
        },
        {
          "output_type": "execute_result",
          "data": {
            "text/plain": [
              "True"
            ]
          },
          "metadata": {},
          "execution_count": 2
        }
      ]
    },
    {
      "cell_type": "code",
      "metadata": {
        "id": "Mh5iWwks7ODJ"
      },
      "source": [
        "from nltk.sentiment.vader import SentimentIntensityAnalyzer"
      ],
      "execution_count": null,
      "outputs": []
    },
    {
      "cell_type": "code",
      "metadata": {
        "colab": {
          "base_uri": "https://localhost:8080/"
        },
        "id": "jMa783Uf7TKm",
        "outputId": "5f4de37f-000e-4238-9394-d8ed7a716636"
      },
      "source": [
        "sentiment = SentimentIntensityAnalyzer()\n",
        "sentiment.polarity_scores(\"our text\")"
      ],
      "execution_count": null,
      "outputs": [
        {
          "output_type": "execute_result",
          "data": {
            "text/plain": [
              "{'compound': 0.0, 'neg': 0.0, 'neu': 1.0, 'pos': 0.0}"
            ]
          },
          "metadata": {},
          "execution_count": 4
        }
      ]
    },
    {
      "cell_type": "code",
      "metadata": {
        "colab": {
          "base_uri": "https://localhost:8080/"
        },
        "id": "4KvxmWuw7d2y",
        "outputId": "2e8b5710-d91c-4869-c985-0cfe136396cd"
      },
      "source": [
        "sentiment.polarity_scores(\"This is a good car\")"
      ],
      "execution_count": null,
      "outputs": [
        {
          "output_type": "execute_result",
          "data": {
            "text/plain": [
              "{'compound': 0.4404, 'neg': 0.0, 'neu': 0.508, 'pos': 0.492}"
            ]
          },
          "metadata": {},
          "execution_count": 5
        }
      ]
    },
    {
      "cell_type": "code",
      "metadata": {
        "colab": {
          "base_uri": "https://localhost:8080/"
        },
        "id": "Y-70Nmb57mZq",
        "outputId": "871c7d98-61cd-48d4-b584-7b03675abbb3"
      },
      "source": [
        "sentiment.polarity_scores(\"This is an excellent car with great mileage\")"
      ],
      "execution_count": null,
      "outputs": [
        {
          "output_type": "execute_result",
          "data": {
            "text/plain": [
              "{'compound': 0.8316, 'neg': 0.0, 'neu': 0.435, 'pos': 0.565}"
            ]
          },
          "metadata": {},
          "execution_count": 8
        }
      ]
    },
    {
      "cell_type": "code",
      "metadata": {
        "colab": {
          "base_uri": "https://localhost:8080/"
        },
        "id": "xEoX2g2f7sA-",
        "outputId": "e308aeb5-e697-4ab3-ac7c-925a48d17bd0"
      },
      "source": [
        "sentiment.polarity_scores(\"this is an excellent car with great mileage, but its power output could have been better\")"
      ],
      "execution_count": null,
      "outputs": [
        {
          "output_type": "execute_result",
          "data": {
            "text/plain": [
              "{'compound': 0.8294, 'neg': 0.0, 'neu': 0.598, 'pos': 0.402}"
            ]
          },
          "metadata": {},
          "execution_count": 9
        }
      ]
    },
    {
      "cell_type": "code",
      "metadata": {
        "colab": {
          "base_uri": "https://localhost:8080/"
        },
        "id": "xjfkKC_t78Hb",
        "outputId": "7446a6d4-eb65-4f03-af70-a226ed4ff940"
      },
      "source": [
        "sentiment.polarity_scores(\"This is an excellent car with great mileage!!\")"
      ],
      "execution_count": null,
      "outputs": [
        {
          "output_type": "execute_result",
          "data": {
            "text/plain": [
              "{'compound': 0.855, 'neg': 0.0, 'neu': 0.417, 'pos': 0.583}"
            ]
          },
          "metadata": {},
          "execution_count": 10
        }
      ]
    },
    {
      "cell_type": "code",
      "metadata": {
        "colab": {
          "base_uri": "https://localhost:8080/"
        },
        "id": "5FSkMuX_8ALM",
        "outputId": "bc23735d-e4ee-410d-cff9-5d5de261684f"
      },
      "source": [
        "sentiment.polarity_scores(\"This is an excellent car with GREAT mileage\")"
      ],
      "execution_count": null,
      "outputs": [
        {
          "output_type": "execute_result",
          "data": {
            "text/plain": [
              "{'compound': 0.8602, 'neg': 0.0, 'neu': 0.413, 'pos': 0.587}"
            ]
          },
          "metadata": {},
          "execution_count": 11
        }
      ]
    },
    {
      "cell_type": "code",
      "metadata": {
        "colab": {
          "base_uri": "https://localhost:8080/"
        },
        "id": "Kv09zhuY8EoL",
        "outputId": "fe8ee762-71bb-4700-a92e-ec43ad58d24b"
      },
      "source": [
        "sentiment.polarity_scores(\"This is an excellent car with great mileage :)\")"
      ],
      "execution_count": null,
      "outputs": [
        {
          "output_type": "execute_result",
          "data": {
            "text/plain": [
              "{'compound': 0.8957, 'neg': 0.0, 'neu': 0.357, 'pos': 0.643}"
            ]
          },
          "metadata": {},
          "execution_count": 12
        }
      ]
    }
  ]
}