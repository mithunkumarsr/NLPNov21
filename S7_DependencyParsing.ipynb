{
  "nbformat": 4,
  "nbformat_minor": 0,
  "metadata": {
    "colab": {
      "name": "S7_DependencyParsing.ipynb",
      "provenance": [],
      "authorship_tag": "ABX9TyNu49jY9rVPozaGcYuJk+Do",
      "include_colab_link": true
    },
    "kernelspec": {
      "name": "python3",
      "display_name": "Python 3"
    },
    "language_info": {
      "name": "python"
    }
  },
  "cells": [
    {
      "cell_type": "markdown",
      "metadata": {
        "id": "view-in-github",
        "colab_type": "text"
      },
      "source": [
        "<a href=\"https://colab.research.google.com/github/mithunkumarsr/NLPNov21/blob/main/S7_DependencyParsing.ipynb\" target=\"_parent\"><img src=\"https://colab.research.google.com/assets/colab-badge.svg\" alt=\"Open In Colab\"/></a>"
      ]
    },
    {
      "cell_type": "code",
      "execution_count": 1,
      "metadata": {
        "id": "hngol1c-XzhJ"
      },
      "outputs": [],
      "source": [
        "import nltk\n",
        "from nltk.tokenize import word_tokenize\n",
        "import string"
      ]
    },
    {
      "cell_type": "code",
      "source": [
        "groucho_dep_grammar = nltk.DependencyGrammar.fromstring(\"\"\"\n",
        "... 'shot' -> 'I' | 'elephant' | 'in'\n",
        "... 'elephant' -> 'an' | 'in'\n",
        "... 'in' -> 'pajamas'\n",
        "... 'pajamas' -> 'my'\n",
        "... \"\"\")"
      ],
      "metadata": {
        "id": "YJ_hovCDX-PY"
      },
      "execution_count": 2,
      "outputs": []
    },
    {
      "cell_type": "code",
      "source": [
        "print(groucho_dep_grammar)"
      ],
      "metadata": {
        "colab": {
          "base_uri": "https://localhost:8080/"
        },
        "id": "k8CcAielYCEu",
        "outputId": "84dee2a5-f261-41b8-ae77-58a52a75eaa4"
      },
      "execution_count": 3,
      "outputs": [
        {
          "output_type": "stream",
          "name": "stdout",
          "text": [
            "Dependency grammar with 7 productions\n",
            "  'shot' -> 'I'\n",
            "  'shot' -> 'elephant'\n",
            "  'shot' -> 'in'\n",
            "  'elephant' -> 'an'\n",
            "  'elephant' -> 'in'\n",
            "  'in' -> 'pajamas'\n",
            "  'pajamas' -> 'my'\n"
          ]
        }
      ]
    },
    {
      "cell_type": "code",
      "source": [
        "pdp = nltk.ProjectiveDependencyParser(groucho_dep_grammar)\n",
        "sent = 'I shot an elephant in my pajamas'.split()\n",
        "trees = pdp.parse(sent)"
      ],
      "metadata": {
        "id": "Cqc-ENltYIvR"
      },
      "execution_count": 4,
      "outputs": []
    },
    {
      "cell_type": "code",
      "source": [
        "for tree in trees:\n",
        "    print(tree)"
      ],
      "metadata": {
        "colab": {
          "base_uri": "https://localhost:8080/"
        },
        "id": "1N49RcpwYLor",
        "outputId": "b29661e7-4795-410f-cf46-7106cdba1045"
      },
      "execution_count": 5,
      "outputs": [
        {
          "output_type": "stream",
          "name": "stdout",
          "text": [
            "(shot I (elephant an (in (pajamas my))))\n",
            "(shot I (elephant an) (in (pajamas my)))\n"
          ]
        }
      ]
    }
  ]
}