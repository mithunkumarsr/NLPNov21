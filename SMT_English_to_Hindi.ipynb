{
  "nbformat": 4,
  "nbformat_minor": 0,
  "metadata": {
    "kernelspec": {
      "name": "python3",
      "display_name": "Python 3"
    },
    "language_info": {
      "codemirror_mode": {
        "name": "ipython",
        "version": 3
      },
      "file_extension": ".py",
      "mimetype": "text/x-python",
      "name": "python",
      "nbconvert_exporter": "python",
      "pygments_lexer": "ipython3",
      "version": "3.7.3"
    },
    "colab": {
      "name": "SMT_English_to_Hindi.ipynb",
      "provenance": [],
      "collapsed_sections": [],
      "include_colab_link": true
    },
    "accelerator": "TPU"
  },
  "cells": [
    {
      "cell_type": "markdown",
      "metadata": {
        "id": "view-in-github",
        "colab_type": "text"
      },
      "source": [
        "<a href=\"https://colab.research.google.com/github/mithunkumarsr/NLPNov21/blob/main/SMT_English_to_Hindi.ipynb\" target=\"_parent\"><img src=\"https://colab.research.google.com/assets/colab-badge.svg\" alt=\"Open In Colab\"/></a>"
      ]
    },
    {
      "cell_type": "code",
      "metadata": {
        "id": "u7y4if32xY-g"
      },
      "source": [
        "# Statistical Machine Translation System\n",
        "# English to Hindi\n",
        "\n",
        "# IBM Model 1 for Word Translation Task\n",
        "# Word Alignment based on Relative Positions\n",
        "# Bi-gram Language Modelling with Laplace Smoothing and Backoff"
      ],
      "execution_count": null,
      "outputs": []
    },
    {
      "cell_type": "code",
      "metadata": {
        "id": "2cVVv4e0VoF0"
      },
      "source": [
        "import pickle"
      ],
      "execution_count": null,
      "outputs": []
    },
    {
      "cell_type": "code",
      "metadata": {
        "id": "2gWKU42vygZn",
        "colab": {
          "base_uri": "https://localhost:8080/"
        },
        "outputId": "7202c82c-a0c0-4148-8f68-b6e2b03e656f"
      },
      "source": [
        "from google.colab import drive\n",
        "drive.mount('/content/drive')"
      ],
      "execution_count": null,
      "outputs": [
        {
          "output_type": "stream",
          "text": [
            "Mounted at /content/drive\n"
          ],
          "name": "stdout"
        }
      ]
    },
    {
      "cell_type": "code",
      "metadata": {
        "id": "aKVfJuwSxY-w"
      },
      "source": [
        "tokenized_stores = {'en_train': [], 'en_dev': [], 'en_test': [], 'hi_train': [], 'hi_dev': [], 'hi_test': []}"
      ],
      "execution_count": null,
      "outputs": []
    },
    {
      "cell_type": "code",
      "metadata": {
        "id": "5OCBe2XixY--"
      },
      "source": [
        "# Load data files into your Google Drive in a directory named \"NLP_Translation\"\n",
        "# Alternatively, provide location to the folder 'data_file'\n",
        "\n",
        "for key in tokenized_stores:\n",
        "    file_name = \"/content/drive/My Drive/NLP_Translation/\" + str(key)[3:] + \".\" + str(key)[0:2]\n",
        "    load = open(file_name)\n",
        "    sentences = load.read().split('\\n')\n",
        "    \n",
        "    for sentence in sentences:\n",
        "        token_store = sentence.split(' ')\n",
        "        tokenized_stores[key].append(token_store)"
      ],
      "execution_count": null,
      "outputs": []
    },
    {
      "cell_type": "code",
      "metadata": {
        "id": "4SWltGqbxY_H",
        "colab": {
          "base_uri": "https://localhost:8080/"
        },
        "outputId": "b9244ad8-1c0f-40ad-b2d4-fff56c27d172"
      },
      "source": [
        "print(tokenized_stores['hi_train'][2])"
      ],
      "execution_count": null,
      "outputs": [
        {
          "output_type": "stream",
          "text": [
            "['ऑपरेशन', 'के', 'दौरान', 'लैन्स', 'प्रत्यारोपण', 'आँख', 'के', 'अगले', 'भाग', ',', 'आइरिस', 'के', 'आगे', 'किया', 'जाता', 'है', '।']\n"
          ],
          "name": "stdout"
        }
      ]
    },
    {
      "cell_type": "code",
      "metadata": {
        "id": "dIZNBPNAxY_S"
      },
      "source": [
        "train_size = len(tokenized_stores['en_train'])\n",
        "dev_size = len(tokenized_stores['en_dev'])\n",
        "test_size = len(tokenized_stores['en_test'])"
      ],
      "execution_count": null,
      "outputs": []
    },
    {
      "cell_type": "code",
      "metadata": {
        "id": "6VMMiv4BxY_c",
        "colab": {
          "base_uri": "https://localhost:8080/"
        },
        "outputId": "ea056d7b-f036-4877-95c2-6d2aa17c9f1d"
      },
      "source": [
        "# making the vocabulary\n",
        "\n",
        "en_words = {}\n",
        "hi_words = {}\n",
        "\n",
        "for key in tokenized_stores:\n",
        "    if str(key)[0] == 'e':\n",
        "        # creating en_words\n",
        "        for sentence in tokenized_stores[key]:\n",
        "            for word in sentence:\n",
        "                if word in en_words:\n",
        "                    en_words[word] += 1\n",
        "                else:\n",
        "                    en_words[word] = 1\n",
        "    else:\n",
        "        # creating hi_words\n",
        "        for sentence in tokenized_stores[key]:\n",
        "            for word in sentence:\n",
        "                if word in hi_words:\n",
        "                    hi_words[word] += 1\n",
        "                else:\n",
        "                    hi_words[word] = 1\n",
        "                    \n",
        "en_vocab = len(en_words)\n",
        "hi_vocab = len(hi_words)\n",
        "print(\"Number of Unique Words:\")\n",
        "print(\"> English:\", str(en_vocab))\n",
        "print(\"> Hindi:\", str(hi_vocab))"
      ],
      "execution_count": null,
      "outputs": [
        {
          "output_type": "stream",
          "text": [
            "Number of Unique Words:\n",
            "> English: 36879\n",
            "> Hindi: 43921\n"
          ],
          "name": "stdout"
        }
      ]
    },
    {
      "cell_type": "code",
      "metadata": {
        "id": "fCA1636BxY_k"
      },
      "source": [
        "# creating the 't'\n",
        "t = {}\n",
        "# usage: t[('EN_word', 'HI_word')] = probability of EN_Word given HI_word\n",
        "uniform = 1 / (en_vocab * hi_vocab)"
      ],
      "execution_count": null,
      "outputs": []
    },
    {
      "cell_type": "code",
      "metadata": {
        "id": "sKUGRo00xY_p",
        "colab": {
          "base_uri": "https://localhost:8080/"
        },
        "outputId": "db528d6a-ed87-4e80-afd6-0f1fb989eaa3"
      },
      "source": [
        "n_iters = 0\n",
        "max_iters = 25\n",
        "\n",
        "fine_tune = 1\n",
        "has_converged = False\n",
        "\n",
        "while n_iters < max_iters and has_converged == False:\n",
        "    has_converged = True\n",
        "    max_change = -1\n",
        "\n",
        "    n_iters += 1\n",
        "    count = {}\n",
        "    total = {}\n",
        "    for index in range(train_size):\n",
        "        s_total = {}\n",
        "        for en_word in tokenized_stores['en_train'][index]:\n",
        "            s_total[en_word] = 0\n",
        "            for hi_word in tokenized_stores['hi_train'][index]:\n",
        "                if (en_word, hi_word) not in t:\n",
        "                    t[(en_word, hi_word)] = uniform\n",
        "                s_total[en_word] += t[(en_word, hi_word)]\n",
        "\n",
        "        for en_word in tokenized_stores['en_train'][index]:\n",
        "            for hi_word in tokenized_stores['hi_train'][index]:\n",
        "                if (en_word, hi_word) not in count:\n",
        "                    count[(en_word, hi_word)] = 0\n",
        "                count[(en_word, hi_word)] += (t[(en_word, hi_word)] / s_total[en_word])\n",
        "\n",
        "                if hi_word not in total:\n",
        "                    total[hi_word] = 0\n",
        "                total[hi_word] += (t[(en_word, hi_word)] / s_total[en_word])\n",
        "\n",
        "    # estimating the probabilities\n",
        "\n",
        "    if fine_tune == 0:\n",
        "      updated = {}\n",
        "      # train for all valid word pairs s.t count(en_word, hi_word) > 0\n",
        "      for index in range(train_size):\n",
        "          for hi_word in tokenized_stores['hi_train'][index]:\n",
        "              for en_word in tokenized_stores['en_train'][index]:\n",
        "                  if (en_word, hi_word) in updated:\n",
        "                      continue\n",
        "                  updated[(en_word, hi_word)] = 1\n",
        "                  if abs(t[(en_word, hi_word)] - count[(en_word, hi_word)] / total[hi_word]) > 0.01:\n",
        "                      has_converged = False\n",
        "                      max_change = max(max_change, abs(t[(en_word, hi_word)] - count[(en_word, hi_word)] / total[hi_word]))\n",
        "                  t[(en_word, hi_word)] = count[(en_word, hi_word)] / total[hi_word]\n",
        "\n",
        "    elif fine_tune == 1:\n",
        "      # train it only for 1000 most frequent words in English and Hindi\n",
        "      max_words = 1000\n",
        "      n_hi_words = 0\n",
        "      updates = 0\n",
        "\n",
        "      for hi_word_tuples in sorted(hi_words.items(), key = lambda k:(k[1], k[0]), reverse = True):\n",
        "          hi_word = hi_word_tuples[0]\n",
        "          n_hi_words += 1\n",
        "          if n_hi_words > max_words:\n",
        "              break\n",
        "          n_en_words = 0\n",
        "          for en_word_tuples in sorted(en_words.items(), key = lambda k:(k[1], k[0]), reverse = True):\n",
        "              en_word = en_word_tuples[0]\n",
        "              n_en_words += 1\n",
        "              if n_en_words > max_words:\n",
        "                  break\n",
        "              if (en_word, hi_word) not in count or hi_word not in total:\n",
        "                  continue\n",
        "                  # assume in this case: t[(en_word, hi_word)] = uniform\n",
        "              else:\n",
        "                  if abs(t[(en_word, hi_word)] - count[(en_word, hi_word)] / total[hi_word]) > 0.005:\n",
        "                      has_converged = False\n",
        "                      max_change = max(max_change, abs(t[(en_word, hi_word)] - count[(en_word, hi_word)] / total[hi_word]))\n",
        "                  t[(en_word, hi_word)] = count[(en_word, hi_word)] / total[hi_word]\n",
        "\n",
        "    print(\"Iteration \" + str(n_iters) + \" Completed, Maximum Change: \" + str(max_change))\n"
      ],
      "execution_count": null,
      "outputs": [
        {
          "output_type": "stream",
          "text": [
            "Iteration 1 Completed, Maximum Change: 0.12702983945877983\n",
            "Iteration 2 Completed, Maximum Change: 0.37839562630629314\n",
            "Iteration 3 Completed, Maximum Change: 0.217407035860872\n",
            "Iteration 4 Completed, Maximum Change: 0.13005997455980178\n",
            "Iteration 5 Completed, Maximum Change: 0.08057651269471866\n",
            "Iteration 6 Completed, Maximum Change: 0.04856997020110787\n",
            "Iteration 7 Completed, Maximum Change: 0.03555362770400777\n",
            "Iteration 8 Completed, Maximum Change: 0.029406614861381575\n",
            "Iteration 9 Completed, Maximum Change: 0.02457095418019195\n",
            "Iteration 10 Completed, Maximum Change: 0.020788408537065484\n",
            "Iteration 11 Completed, Maximum Change: 0.018719192726659395\n",
            "Iteration 12 Completed, Maximum Change: 0.01647236630228205\n",
            "Iteration 13 Completed, Maximum Change: 0.014208922903773125\n",
            "Iteration 14 Completed, Maximum Change: 0.012183247164818\n",
            "Iteration 15 Completed, Maximum Change: 0.01070533230776105\n",
            "Iteration 16 Completed, Maximum Change: 0.009634828804602424\n",
            "Iteration 17 Completed, Maximum Change: 0.008727420374992523\n",
            "Iteration 18 Completed, Maximum Change: 0.00794696548613838\n",
            "Iteration 19 Completed, Maximum Change: 0.007265622693145457\n",
            "Iteration 20 Completed, Maximum Change: 0.006662515701654326\n",
            "Iteration 21 Completed, Maximum Change: 0.006122542417748678\n",
            "Iteration 22 Completed, Maximum Change: 0.005635058267058124\n",
            "Iteration 23 Completed, Maximum Change: 0.005192580334827057\n",
            "Iteration 24 Completed, Maximum Change: -1\n"
          ],
          "name": "stdout"
        }
      ]
    },
    {
      "cell_type": "code",
      "metadata": {
        "id": "6yaalpW64cA-",
        "colab": {
          "base_uri": "https://localhost:8080/"
        },
        "outputId": "28c99b7d-85f0-4b1b-c6f3-07629b7c2dac"
      },
      "source": [
        "# displaying the most confident translation pairs\n",
        "limit = 40\n",
        "for element in sorted(t.items(), key = lambda k:(k[1], k[0]), reverse = True):\n",
        "  print(element)\n",
        "  limit -= 1\n",
        "  if limit <= 0:\n",
        "    break"
      ],
      "execution_count": null,
      "outputs": [
        {
          "output_type": "stream",
          "text": [
            "(('or', 'या'), 0.7428089454650831)\n",
            "(('and', 'तथा'), 0.7336960929966874)\n",
            "(('and', 'और'), 0.7189563724564298)\n",
            "(('and', 'एवं'), 0.7183124504420993)\n",
            "(('and', 'व'), 0.7170500220588348)\n",
            "((',', ','), 0.6962109618976713)\n",
            "(('oil', 'तेल'), 0.6884574558949705)\n",
            "(('30', '30'), 0.6773895694061998)\n",
            "(('body', 'शरीर'), 0.6755868397968229)\n",
            "(('Shimla', 'शिमला'), 0.6750139366454307)\n",
            "(('water', 'पानी'), 0.6602254786077301)\n",
            "(('chest', 'छाती'), 0.6591551695558174)\n",
            "(('Delhi', 'दिल्ली'), 0.6563478755134947)\n",
            "(('12', '12'), 0.6516055421315546)\n",
            "(('skin', 'त्वचा'), 0.6493576943448509)\n",
            "(('this', 'इस'), 0.6492213540524291)\n",
            "(('20', '20'), 0.6399123466762006)\n",
            "(('children', 'बच्चों'), 0.6399055603891741)\n",
            "(('people', 'लोगों'), 0.6384099457254119)\n",
            "(('milk', 'दूध'), 0.6271768274872059)\n",
            "(('heart', 'हृदय'), 0.6271654259958892)\n",
            "(('fever', 'बुखार'), 0.6269890380285558)\n",
            "(('other', 'अन्य'), 0.6256219920564763)\n",
            "(('stomach', 'पेट'), 0.6170447717986453)\n",
            "(('disease', 'बीमारी'), 0.6152551231622909)\n",
            "(('patients', 'रोगियों'), 0.6106769811336571)\n",
            "(('India', 'भारत'), 0.6103482343431932)\n",
            "(('10', '10'), 0.6092891751913834)\n",
            "(('hair', 'बालों'), 0.6092214581421687)\n",
            "(('beautiful', 'खूबसूरत'), 0.6065546949953321)\n",
            "(('bottle', 'बोतल'), 0.6062797201223613)\n",
            "(('health', 'स्वास्थ्य'), 0.6047319415376543)\n",
            "(('swelling', 'सूजन'), 0.6035842407764123)\n",
            "(('easily', 'आसानी'), 0.602327601209004)\n",
            "(('two', 'दो'), 0.6013276137055077)\n",
            "(('village', 'गाँव'), 0.5998266880871703)\n",
            "(('Rajasthan', 'राजस्थान'), 0.5996760220226972)\n",
            "(('tourists', 'पर्यटकों'), 0.5985512654601118)\n",
            "(('iron', 'आयरन'), 0.5977041635252459)\n",
            "(('women', 'महिलाओं'), 0.5967197004598742)\n"
          ],
          "name": "stdout"
        }
      ]
    },
    {
      "cell_type": "code",
      "metadata": {
        "id": "DpMllrHFDYV-"
      },
      "source": [
        "# saving the translation model\n",
        "file = open(\"translation_model.pkl\",\"wb\")\n",
        "pickle.dump(t, file)\n",
        "file.close()"
      ],
      "execution_count": null,
      "outputs": []
    },
    {
      "cell_type": "code",
      "metadata": {
        "id": "4wQ0a-EARrIy"
      },
      "source": [
        "# using the model trained until convergence\n",
        "# to use a saved model\n",
        "model_name = \"translation_model.pkl\"\n",
        "pickle_in = open(model_name,\"rb\")\n",
        "t = pickle.load(pickle_in)"
      ],
      "execution_count": null,
      "outputs": []
    },
    {
      "cell_type": "code",
      "metadata": {
        "id": "Yaz1CgJoCllZ"
      },
      "source": [
        "I = {}\n",
        "for index in range(train_size):\n",
        "    for en_id in range(len(tokenized_stores['en_train'][index])):\n",
        "        length = len(tokenized_stores['en_train'][index])\n",
        "        if length not in I:\n",
        "            I[length] = {} # maps the positional difference to a tuple: (sum of t's, count)\n",
        "        for hi_id in range(len(tokenized_stores['hi_train'][index])):\n",
        "            if (hi_id - en_id) not in I[length]:\n",
        "                I[length][(hi_id - en_id)] = [t[(tokenized_stores['en_train'][index][en_id], tokenized_stores['hi_train'][index][hi_id])], 1]\n",
        "            else:\n",
        "                I[length][(hi_id - en_id)][0] += t[(tokenized_stores['en_train'][index][en_id], tokenized_stores['hi_train'][index][hi_id])]\n",
        "                I[length][(hi_id - en_id)][1] += 1"
      ],
      "execution_count": null,
      "outputs": []
    },
    {
      "cell_type": "code",
      "metadata": {
        "id": "wh6ogFdO2r_-",
        "colab": {
          "base_uri": "https://localhost:8080/"
        },
        "outputId": "a0bf3688-831d-40ed-a18c-33c85d852126"
      },
      "source": [
        "# viewing the available sentence lengths encountered during training\n",
        "sentence_lengths = []\n",
        "for key in I.keys():\n",
        "    if key not in sentence_lengths:\n",
        "        sentence_lengths.append(key)\n",
        "sentence_lengths.sort()\n",
        "print(sentence_lengths)"
      ],
      "execution_count": null,
      "outputs": [
        {
          "output_type": "stream",
          "text": [
            "[1, 2, 3, 4, 5, 6, 7, 8, 9, 10, 11, 12, 13, 14, 15, 16, 17, 18, 19, 20, 21, 22, 23, 24, 25, 26, 27, 28, 29, 30, 31, 32, 33, 34, 35, 36, 37, 38, 39, 40, 41, 42, 43, 44, 45, 46, 47, 48, 49, 50, 51, 52, 53, 54, 55, 56, 57, 58, 59, 60, 61, 62, 63, 64, 65, 66, 67, 68, 69, 70, 71, 72, 73, 74, 75, 79, 80, 83, 93, 96, 100, 107]\n"
          ],
          "name": "stdout"
        }
      ]
    },
    {
      "cell_type": "code",
      "metadata": {
        "id": "1CNo6HGz6lqK"
      },
      "source": [
        "# computing the alignment probabilities\n",
        "# p[I][hi_id - en_id] = p(i | i', I)\n",
        "\n",
        "p = {}\n",
        "for key in I.keys():\n",
        "    p[key] = {}\n",
        "    sum_val = 0\n",
        "    for diff in I[key].keys():\n",
        "        p[key][diff] = I[key][diff][0] / I[key][diff][1]\n",
        "        sum_val += p[key][diff]\n",
        "    for diff in p[key].keys():\n",
        "        p[key][diff] /= sum_val"
      ],
      "execution_count": null,
      "outputs": []
    },
    {
      "cell_type": "code",
      "metadata": {
        "id": "VWI7HCoI81Qa",
        "colab": {
          "base_uri": "https://localhost:8080/"
        },
        "outputId": "8c25938c-7f7c-4fdf-a65e-68f1fd7fab52"
      },
      "source": [
        "for index in range(train_size):\n",
        "    length_en = len(tokenized_stores['en_train'][index])\n",
        "    length_hi = len(tokenized_stores['hi_train'][index])\n",
        "    if length_hi - length_en > 10 and length_en == 1:\n",
        "        print(\"Length of English Sentence:\", str(length_en))\n",
        "        print(\"Length of Hindi Sentence:\", str(length_hi))\n",
        "        \n",
        "# there exists an English sentence with one token s.t the Hindi translation contains 19 tokens"
      ],
      "execution_count": null,
      "outputs": [
        {
          "output_type": "stream",
          "text": [
            "Length of English Sentence: 1\n",
            "Length of Hindi Sentence: 19\n"
          ],
          "name": "stdout"
        }
      ]
    },
    {
      "cell_type": "code",
      "metadata": {
        "id": "yqzyU-2g9_jk"
      },
      "source": [
        "# computing initial transitions\n",
        "init = {}\n",
        "for length in p:\n",
        "    max_prob = -1\n",
        "    max_jump = 0\n",
        "    for key in p[length].keys():\n",
        "        if p[length][key] > max_prob:\n",
        "            max_prob = p[length][key]\n",
        "            max_jump = key\n",
        "    init[length] = max_jump"
      ],
      "execution_count": null,
      "outputs": []
    },
    {
      "cell_type": "code",
      "metadata": {
        "id": "12MsJzVKnIcb",
        "colab": {
          "base_uri": "https://localhost:8080/"
        },
        "outputId": "30708ecf-107a-4004-d0b4-a6d461138a4f"
      },
      "source": [
        "!pip install nltk"
      ],
      "execution_count": null,
      "outputs": [
        {
          "output_type": "stream",
          "text": [
            "Requirement already satisfied: nltk in /usr/local/lib/python3.7/dist-packages (3.2.5)\n",
            "Requirement already satisfied: six in /usr/local/lib/python3.7/dist-packages (from nltk) (1.15.0)\n"
          ],
          "name": "stdout"
        }
      ]
    },
    {
      "cell_type": "code",
      "metadata": {
        "id": "DlM2-MzmExbc",
        "colab": {
          "base_uri": "https://localhost:8080/"
        },
        "outputId": "5bc40c42-4c89-4348-8c60-85232eedf091"
      },
      "source": [
        "# computing the transition probabilities for Hindi\n",
        "bigrams = {}\n",
        "unigrams = {}\n",
        "\n",
        "# training on the train_set\n",
        "def model(dataset_size, dataset_name):\n",
        "    global bigrams\n",
        "    global unigrams\n",
        "    for index in range(dataset_size):\n",
        "        token_A = ''\n",
        "        for hi_token in tokenized_stores[dataset_name][index]:\n",
        "            if hi_token not in unigrams:\n",
        "                unigrams[hi_token] = 1\n",
        "            else:\n",
        "                unigrams[hi_token] += 1\n",
        "            \n",
        "            token_B = hi_token\n",
        "            if (token_A, token_B) not in bigrams:\n",
        "                bigrams[(token_A, token_B)] = 1\n",
        "            else:\n",
        "                bigrams[(token_A, token_B)] += 1\n",
        "            token_A = token_B\n",
        "\n",
        "model(train_size, 'hi_train')\n",
        "model(dev_size, 'hi_dev')\n",
        "\n",
        "bigram_count = len(bigrams)\n",
        "unigram_count = len(unigrams)\n",
        "print(\"Number of Unique Bigrams:\", bigram_count)\n",
        "print(\"Number of Unique Unigrams:\", unigram_count)"
      ],
      "execution_count": null,
      "outputs": [
        {
          "output_type": "stream",
          "text": [
            "Number of Unique Bigrams: 317170\n",
            "Number of Unique Unigrams: 43851\n"
          ],
          "name": "stdout"
        }
      ]
    },
    {
      "cell_type": "code",
      "metadata": {
        "id": "AF98ePawMnaE",
        "colab": {
          "base_uri": "https://localhost:8080/"
        },
        "outputId": "618f8d7b-cfe6-4e67-d462-5a939a7642c3"
      },
      "source": [
        "from itertools import permutations\n",
        "import nltk\n",
        "\n",
        "computed_sentences = []\n",
        "total_BLEU = {1: 0, 2: 0, 3: 0, 4: 0, 5: 0, 7: 0}\n",
        "null_BLEU_count = 0\n",
        "\n",
        "sorted_t = sorted(t.items(), key = lambda k:(k[1], k[0]), reverse = True)\n",
        "\n",
        "def find_translation(en_token):\n",
        "    for element in sorted_t:\n",
        "        if element[0][0].lower() == en_token:\n",
        "            return element[0][1]\n",
        "    return \"\"\n",
        "\n",
        "def get_prob(seq):\n",
        "    # bigram language model with laplace smoothing and backoff\n",
        "    if len(seq) < 2:\n",
        "        return 1\n",
        "    score = 0\n",
        "    token_A = ''\n",
        "    for hi_token in seq:\n",
        "        token_B = hi_token\n",
        "        if (token_A, token_B) not in bigrams:\n",
        "            if token_B not in unigrams:\n",
        "                continue\n",
        "            else:\n",
        "                score += unigrams[token_B] / unigram_count\n",
        "        else:\n",
        "            base_token_count = 0\n",
        "            if token_A in unigrams:\n",
        "                base_token_count = unigrams[token_A]\n",
        "            score += (bigrams[(token_A, token_B)] + 1) / (base_token_count + unigram_count)\n",
        "        token_A = token_B\n",
        "    return score\n",
        "\n",
        "count = 0\n",
        "for index in range(test_size):\n",
        "    if len(tokenized_stores['en_test'][index]) > 8 or len(tokenized_stores['en_test'][index]) < 2:\n",
        "        continue\n",
        "\n",
        "    translated_words = []\n",
        "    for en_token in tokenized_stores['en_test'][index]:\n",
        "        translation = find_translation(en_token)\n",
        "        if translation != \"\":\n",
        "            translated_words.append(translation)\n",
        "\n",
        "    perm = permutations(translated_words)\n",
        "\n",
        "    best_seq = translated_words\n",
        "    best_prob = -1\n",
        "\n",
        "    for seq in perm:\n",
        "        prob = get_prob(seq)\n",
        "        if prob > best_prob:\n",
        "            best_prob = prob\n",
        "            best_seq = seq\n",
        "\n",
        "    BLEU_scores = []\n",
        "    # Collecting BLEU_scores with various kinds of Smoothing\n",
        "    BLEU_scores.append(nltk.translate.bleu_score.sentence_bleu([tokenized_stores['hi_test'][index]], best_seq, smoothing_function=nltk.translate.bleu_score.SmoothingFunction().method1))\n",
        "    BLEU_scores.append(nltk.translate.bleu_score.sentence_bleu([tokenized_stores['hi_test'][index]], best_seq, smoothing_function=nltk.translate.bleu_score.SmoothingFunction().method2))\n",
        "    BLEU_scores.append(nltk.translate.bleu_score.sentence_bleu([tokenized_stores['hi_test'][index]], best_seq, smoothing_function=nltk.translate.bleu_score.SmoothingFunction().method3))\n",
        "    BLEU_scores.append(nltk.translate.bleu_score.sentence_bleu([tokenized_stores['hi_test'][index]], best_seq, smoothing_function=nltk.translate.bleu_score.SmoothingFunction().method4))\n",
        "    BLEU_scores.append(nltk.translate.bleu_score.sentence_bleu([tokenized_stores['hi_test'][index]], best_seq, smoothing_function=nltk.translate.bleu_score.SmoothingFunction().method5))\n",
        "    BLEU_scores.append(nltk.translate.bleu_score.sentence_bleu([tokenized_stores['hi_test'][index]], best_seq, smoothing_function=nltk.translate.bleu_score.SmoothingFunction().method7))\n",
        "\n",
        "    for key in total_BLEU.keys():\n",
        "        if key == 7:\n",
        "            consider = 5\n",
        "        else: consider = key - 1\n",
        "        total_BLEU[key] += BLEU_scores[consider]\n",
        "    \n",
        "    if BLEU_scores[0] == 0:\n",
        "        null_BLEU_count += 1\n",
        "    \n",
        "    count += 1\n",
        "    print(\"Sentence Index: \", str(count))\n",
        "    print(\"English Sentence:\", str(tokenized_stores['en_test'][index]))\n",
        "    print(\"Reference Hindi Sentence:\", str(tokenized_stores['hi_test'][index]))\n",
        "    print(\"Translated Sentence:\", str(best_seq))\n",
        "    print(\"Translation BLEU Scores\", str(BLEU_scores))\n",
        "    print()\n",
        "    \n",
        "    computed_sentences.append([tokenized_stores['en_test'][index], tokenized_stores['hi_test'][index], best_seq, BLEU_scores])\n",
        "\n",
        "tested = count"
      ],
      "execution_count": null,
      "outputs": [
        {
          "output_type": "stream",
          "text": [
            "Sentence Index:  1\n",
            "English Sentence: ['Your', 'self-confidence', 'also', 'increases', 'with', 'teeth', '.']\n",
            "Reference Hindi Sentence: ['दाँतों', 'से', 'आपका', 'आत्मविश्\\u200dवास', 'भी', 'बढ़ता', 'है', '।']\n",
            "Translated Sentence: ('।', 'बढ़', 'साथ', 'दाँतों', '।', 'भी')\n",
            "Translation BLEU Scores [0.03849815007763549, 0.18822631894109965, 0.07654112967106118, 0.18815926093992244, 0.09193101000946054, 0.2362891668915472]\n",
            "\n",
            "Sentence Index:  2\n",
            "English Sentence: ['Bacteria', 'stay', 'between', 'our', 'gums', 'and', 'teeth', '.']\n",
            "Reference Hindi Sentence: ['हमारे', 'मसूढ़ों', 'और', 'दाँतों', 'के', 'बीच', 'बैक्टीरिया', 'मौजूद', 'होते', 'हैं', '।']\n",
            "Translated Sentence: ('।', 'ठहरने', 'बीच', 'हमारे', '’', 'दाँतों', 'तथा')\n",
            "Translation BLEU Scores [0.02638012815011716, 0.13190064075058583, 0.05244835934727967, 0.15903757829743673, 0.07762860946605708, 0.19734686260161405]\n",
            "\n",
            "Sentence Index:  3\n",
            "English Sentence: ['They', 'make', 'teeth', 'dirty', 'and', 'breath', 'stinky', '.']\n",
            "Reference Hindi Sentence: ['ये', 'दाँतों', 'को', 'गंदा', 'और', 'साँसों', 'को', 'बदबूदार', 'बना', 'देते', 'हैं', '।']\n",
            "Translated Sentence: ('बनाने', '।', 'तथा', '।', 'दाँतों', '।', 'श्\\u200dवास')\n",
            "Translation BLEU Scores [0.019229913610012243, 0.10063351655856652, 0.03823246852690465, 0.11593116128936173, 0.04934931901860593, 0.14898359094953884]\n",
            "\n",
            "Sentence Index:  4\n",
            "English Sentence: ['Clean', 'your', 'teeth', 'properly', '.']\n",
            "Reference Hindi Sentence: ['दाँतों', 'को', 'ठीक', 'से', 'साफ', 'करें', '।']\n",
            "Translated Sentence: ('।', 'आपकी', 'दाँतों', 'अच्छी')\n",
            "Translation BLEU Scores [0.045131921809482646, 0.1878296463217631, 0.08973024087021203, 0.10990031779775743, 0.06060465697360007, 0.14348435345097704]\n",
            "\n",
            "Sentence Index:  5\n",
            "English Sentence: ['Drink', 'plenty', 'of', 'water', '.']\n",
            "Reference Hindi Sentence: ['खूब', 'पानी', 'पीएँ', '।']\n",
            "Translated Sentence: ('।', 'की', '।', 'पानी')\n",
            "Translation BLEU Scores [0.09554427922043669, 0.3976353643835253, 0.18995892141289816, 0.2326589746035907, 0.1283000598199168, 0.3037563786393773]\n",
            "\n",
            "Sentence Index:  6\n",
            "English Sentence: ['With', 'this', 'stink', 'comes', 'from', 'breath', '.']\n",
            "Reference Hindi Sentence: ['इससे', 'साँसों', 'से', 'बदबू', 'आने', 'लगती', 'है', '।']\n",
            "Translated Sentence: ('।', 'आता', 'इस', 'अलावा', 'श्\\u200dवास', '।')\n",
            "Translation BLEU Scores [0.02925226826055808, 0.15827883685397307, 0.05815868174415821, 0.14297012104798287, 0.06128734000630705, 0.19809334661269648]\n",
            "\n",
            "Sentence Index:  7\n",
            "English Sentence: ['Chew', 'the', 'sugar-free', 'chewing', 'gum', '.']\n",
            "Reference Hindi Sentence: ['चबाएँ', 'शुगर', 'रहित', 'चुइंग', 'गम', '।']\n",
            "Translated Sentence: ('।', 'प्रवेश', '।', '’ग्रेफाइटिस’', '।')\n",
            "Translation BLEU Scores [0.0439891724758422, 0.22352339099197038, 0.08745825313180632, 0.16275722768907425, 0.07353024321741747, 0.22219664527356253]\n",
            "\n",
            "Sentence Index:  8\n",
            "English Sentence: ['Get', 'the', 'teeth', 'checked-up', 'regularly', '.']\n",
            "Reference Hindi Sentence: ['नियमित', 'रूप', 'से', 'कराएँ', 'दाँतों', 'की', 'जाँच', '।']\n",
            "Translated Sentence: ('।', 'प्रवेश', 'दाँतों', 'नियमित')\n",
            "Translation BLEU Scores [0.03889851495052567, 0.1571901051328651, 0.07733712583165141, 0.09472140745456535, 0.05899869288601704, 0.12544925727773606]\n",
            "\n",
            "Sentence Index:  9\n",
            "English Sentence: ['Clean', 'the', 'mouth', 'after', 'meal', '.']\n",
            "Reference Hindi Sentence: ['खाने', 'के', 'बाद', 'मुँह', 'साफ', 'करें', '।']\n",
            "Translated Sentence: ('।', 'प्रवेश', 'मुँह', 'भोजन', 'बाद')\n",
            "Translation BLEU Scores [0.04739878501170794, 0.21763141204756337, 0.0942371657473343, 0.17537258398240252, 0.09460231220534814, 0.22385603705281695]\n",
            "\n",
            "Sentence Index:  10\n",
            "English Sentence: ['Not', 'only', 'teeth', 'starts', 'shining', 'with', 'this', '.']\n",
            "Reference Hindi Sentence: ['इससे', 'न', 'केवल', 'दाँत', 'चमचमाने', 'लगते', 'हैं', '।']\n",
            "Translated Sentence: ('।', 'केवल', 'साथ', 'लगता', 'इस', '।', 'दाँतों')\n",
            "Translation BLEU Scores [0.034052233956373766, 0.17820132316770917, 0.06770186228657868, 0.20529031524114758, 0.08738752502425957, 0.2638193908491072]\n",
            "\n",
            "Sentence Index:  11\n",
            "English Sentence: ['If', 'there', 'is', 'health', 'there', 'is', 'everything', '.']\n",
            "Reference Hindi Sentence: ['सेहत', 'है', 'तो', 'सब', 'है', '।']\n",
            "Translated Sentence: ('।', 'वहाँ', 'है', '….', 'स्वास्थ्य', 'वहाँ', 'है')\n",
            "Translation BLEU Scores [0.043472087194499145, 0.22089591134157885, 0.08643019616048525, 0.2620796772330101, 0.11913576983277992, 0.32719347222300477]\n",
            "\n",
            "Sentence Index:  12\n",
            "English Sentence: ['Eat', 'less', 'fatty', 'food', '.']\n",
            "Reference Hindi Sentence: ['कम', 'वसायुक्त', 'आहार', 'का', 'करें', 'सेवन', '।']\n",
            "Translated Sentence: ('।', 'भोजन', 'कम', '’')\n",
            "Translation BLEU Scores [0.045131921809482646, 0.1878296463217631, 0.08973024087021203, 0.10990031779775743, 0.06060465697360007, 0.14348435345097704]\n",
            "\n",
            "Sentence Index:  13\n",
            "English Sentence: ['Take', 'less', 'salt', 'and', 'alcohol', '.']\n",
            "Reference Hindi Sentence: ['नमक', 'और', 'शराब', 'का', 'सेवन', 'कम', 'करें', '।']\n",
            "Translated Sentence: ('।', 'कम', 'नमक', '।', 'तथा')\n",
            "Translation BLEU Scores [0.03880684294761699, 0.1781815298791261, 0.0771548656802496, 0.14358292775314402, 0.07745382231480302, 0.18327782179730542]\n",
            "\n",
            "Sentence Index:  14\n",
            "English Sentence: ['Stop', 'smoking', '.']\n",
            "Reference Hindi Sentence: ['बंद', 'करें', 'धूम्रपान', '।']\n",
            "Translated Sentence: ('।', '’क्रोनिक')\n",
            "Translation BLEU Scores [0.05501080739920602, 0.19765609300943976, 0.10937121222607606, 0.05867012709475033, 0.047198954308813615, 0.08917419648057194]\n",
            "\n",
            "Sentence Index:  15\n",
            "English Sentence: ['Try', 'your', 'best', 'to', 'quit', 'it', '.']\n",
            "Reference Hindi Sentence: ['इसे', 'छोड़ने', 'की', 'पूरी', 'कोशिश', 'करें', '।']\n",
            "Translated Sentence: ('अनुसार', 'आपकी', '।', 'उत्तम', 'इसे', '।')\n",
            "Translation BLEU Scores [0.041095991233501536, 0.2069322016847137, 0.08170609724417771, 0.20085617938772668, 0.09050304661661013, 0.2569807435004382]\n",
            "\n",
            "Sentence Index:  16\n",
            "English Sentence: ['Exercise', 'daily', '.']\n",
            "Reference Hindi Sentence: ['रोज', 'करें', 'व्यायाम', '।']\n",
            "Translated Sentence: ('।', 'प्रतिदिन')\n",
            "Translation BLEU Scores [0.05501080739920602, 0.19765609300943976, 0.10937121222607606, 0.05867012709475033, 0.047198954308813615, 0.08917419648057194]\n",
            "\n",
            "Sentence Index:  17\n",
            "English Sentence: ['Keep', 'doing', 'light', 'physical', 'activities', '.']\n",
            "Reference Hindi Sentence: ['करते', 'रहें', 'हल्की', '-', 'फुल्की', 'शारीरिक', 'गतिविधियाँ', '।']\n",
            "Translated Sentence: ('करने', 'रोशनी', 'शारीरिक', '।', 'शारीरिक')\n",
            "Translation BLEU Scores [0.035065941041239286, 0.1658165975077607, 0.06971729121692201, 0.1297418212019085, 0.06337130916665702, 0.16642990876447916]\n",
            "\n",
            "Sentence Index:  18\n",
            "English Sentence: ['These', 'retain', 'the', 'flexibility', 'in', 'the', 'body', '.']\n",
            "Reference Hindi Sentence: ['इनसे', 'शरीर', 'में', 'लचीलापन', 'बना', 'रहता', 'है', '।']\n",
            "Translated Sentence: ('।', 'प्रवेश', '।', 'शरीर', 'प्रवेश', '।', 'में')\n",
            "Translation BLEU Scores [0.037684991644924185, 0.19148978368719022, 0.07492442692259767, 0.22719108016695733, 0.10327616593776132, 0.2836367900126478]\n",
            "\n",
            "Sentence Index:  19\n",
            "English Sentence: ['Summer', 'season', 'has', 'started', '.']\n",
            "Reference Hindi Sentence: ['गर्मी', 'का', 'मौसम', 'शुरू', 'हो', 'चुका', 'है', '।']\n",
            "Translated Sentence: ('चुका', '।', 'मौसम', 'लगी')\n",
            "Translation BLEU Scores [0.03889851495052567, 0.1571901051328651, 0.07733712583165141, 0.09472140745456535, 0.05899869288601704, 0.12544925727773606]\n",
            "\n",
            "Sentence Index:  20\n",
            "English Sentence: ['I', 'suffer', 'from', 'fever', 'continuously', '.']\n",
            "Reference Hindi Sentence: ['लगातार', 'बुखार', 'से', 'पीड़ित', 'हो', '?']\n",
            "Translated Sentence: ('।', 'अलावा', 'बुखार', 'लगातार', '।')\n",
            "Translation BLEU Scores [0.05231223689135342, 0.24736929544091937, 0.10400597689005309, 0.19355205318596494, 0.0945388841366796, 0.24828424832103338]\n",
            "\n",
            "Sentence Index:  21\n",
            "English Sentence: ['What', 'are', 'the', 'primary', 'symptoms', 'of', 'kalajar', '.']\n",
            "Reference Hindi Sentence: ['कालाजार', 'के', 'प्रारंभिक', 'लक्षण', 'क्या', 'हैं', '?RD_PUNC']\n",
            "Translated Sentence: ('हैं', 'प्रवेश', '।', 'लक्षणों', '।', 'की')\n",
            "Translation BLEU Scores [0.03455747170954952, 0.1869843520537038, 0.06870636427700044, 0.1688992412286964, 0.07240243729328812, 0.2340196377403126]\n",
            "\n",
            "Sentence Index:  22\n",
            "English Sentence: ['I', 'have', 'light', 'fever', 'for', 'some', 'days', '.']\n",
            "Reference Hindi Sentence: ['कुछ', 'दिनों', 'से', 'हल्का', 'फीवर', 'रहता', 'है', '।']\n",
            "Translated Sentence: ('चुके', 'रोशनी', 'दिनों', '।', 'लिए', 'बुखार', 'कुछ')\n",
            "Translation BLEU Scores [0.037684991644924185, 0.19148978368719022, 0.07492442692259767, 0.22719108016695733, 0.10327616593776132, 0.2836367900126478]\n",
            "\n",
            "Sentence Index:  23\n",
            "English Sentence: ['X-ray', 'and', 'TC-DC', 'are', 'normal', '.']\n",
            "Reference Hindi Sentence: ['एक्सरे', ',', 'टीसी-डीसी', 'नार्मल', 'है', '।']\n",
            "Translated Sentence: ('हैं', 'सामान्य', 'तथा', '।')\n",
            "Translation BLEU Scores [0.04873039689743777, 0.2179289600664314, 0.0968846456343324, 0.11866293059813875, 0.05836343994280836, 0.1607626416549204]\n",
            "\n",
            "Sentence Index:  24\n",
            "English Sentence: ['Measure', 'the', 'fever', 'every', 'four', 'hours', '.']\n",
            "Reference Hindi Sentence: ['चार', '-', 'चार', 'घंटे', 'पर', 'फीवर', 'को', 'मापें', '।']\n",
            "Translated Sentence: ('घंटे', 'प्रवेश', 'बुखार', 'हर', 'चार', '।')\n",
            "Translation BLEU Scores [0.03258798048281462, 0.1593301391270729, 0.06479066746903603, 0.15927337575456868, 0.07781791992374447, 0.20001446156332303]\n",
            "\n",
            "Sentence Index:  25\n",
            "English Sentence: ['What', 'is', 'H', '.', '.', '.']\n",
            "Reference Hindi Sentence: ['एच.आई.वी.', 'क्या', 'है', '?']\n",
            "Translated Sentence: ('।', 'है', '।', '।')\n",
            "Translation BLEU Scores [0.08034284189446518, 0.35930411196308426, 0.15973577606156814, 0.19564209772076444, 0.09622504486493762, 0.2650527868304097]\n",
            "\n",
            "Sentence Index:  26\n",
            "English Sentence: ['How', 'does', 'it', 'happens', '.']\n",
            "Reference Hindi Sentence: ['यह', 'कैसे', 'होता', 'है', '?RD_PUNC']\n",
            "Translated Sentence: ('।', 'नहीं', 'इसे', 'होता')\n",
            "Translation BLEU Scores [0.06257106818159155, 0.2798263237576258, 0.12440234748126783, 0.15236621890666366, 0.07494014029189448, 0.20642331793878124]\n",
            "\n",
            "Sentence Index:  27\n",
            "English Sentence: ['State', 'the', 'solutions', 'of', 'prevention', '.']\n",
            "Reference Hindi Sentence: ['बचाव', 'के', 'उपाय', 'बताएँ', '?']\n",
            "Translated Sentence: ('।', 'प्रवेश', '।', 'की', '’')\n",
            "Translation BLEU Scores [0, 0, 0, 0, 0, 0]\n",
            "\n",
            "Sentence Index:  28\n",
            "English Sentence: ['This', 'is', 'a', 'kind', 'of', 'virus', '.']\n",
            "Reference Hindi Sentence: ['यह', 'एक', 'प्रकार', 'का', 'वायरस', 'होता', 'है', '।']\n",
            "Translated Sentence: ('की', 'प्रकार', '।', 'है', 'ए', 'वायरस')\n",
            "Translation BLEU Scores [0.04136895450425726, 0.19902510067151713, 0.08224879649232908, 0.20219028420018045, 0.10725284501103732, 0.25454831051867993]\n",
            "\n",
            "Sentence Index:  29\n",
            "English Sentence: ['Bones', 'become', 'weak', 'and', 'starts', 'melting', '.']\n",
            "Reference Hindi Sentence: ['इससे', 'हड्डियाँ', 'कमजोर', 'हो', 'जाती', 'हैं', 'और', 'गलने', 'लगती', 'हैं', '।']\n",
            "Translated Sentence: ('बन', 'कमजोर', '’', 'लगता', 'तथा', '।')\n",
            "Translation BLEU Scores [0.021099385422893017, 0.106242534824037, 0.04194930905450254, 0.10312300096114015, 0.04646581345757236, 0.1319383129748485]\n",
            "\n",
            "Sentence Index:  30\n",
            "English Sentence: ['Paralysis', 'may', 'also', 'attack', 'in', 'this', 'situation', '.']\n",
            "Reference Hindi Sentence: ['इस', 'परिस्थिति', 'में', 'लकवा', 'भी', 'मार', 'सकता', 'है', '।']\n",
            "Translated Sentence: ('सकती', 'दिल', 'स्थिति', 'इस', '।', 'भी', 'में')\n",
            "Translation BLEU Scores [0.035104358299585095, 0.1755217914979255, 0.06979367151952677, 0.21163324529288696, 0.10330133748735894, 0.262611877191934]\n",
            "\n",
            "Sentence Index:  31\n",
            "English Sentence: ['What', 'is', 'the', 'home', 'treatment', 'of', 'diarrhoea', '.']\n",
            "Reference Hindi Sentence: ['डायरिया', 'का', 'घरेलू', 'उपचार', 'क्या', 'है', '?']\n",
            "Translated Sentence: ('की', 'प्रवेश', '।', 'है', 'घर', 'उपचार', '’')\n",
            "Translation BLEU Scores [0.039281465090051315, 0.20556680845025987, 0.07809849842300641, 0.23681572145316945, 0.10080718985850609, 0.3043328142580808]\n",
            "\n",
            "Sentence Index:  32\n",
            "English Sentence: ['Does', 'kalajar', 'occur', 'because', 'of', 'sun', '.']\n",
            "Reference Hindi Sentence: ['धूप', 'के', 'कारण', 'क्या', 'कालाजार', 'रोग', 'होता', 'है', '?']\n",
            "Translated Sentence: ('पड़', 'की', 'क्योंकि', '।', 'धूप')\n",
            "Translation BLEU Scores [0.02414176971688927, 0.12267223791558803, 0.04799810699119213, 0.0893230604141688, 0.04035425308254256, 0.12194410442718785]\n",
            "\n",
            "Sentence Index:  33\n",
            "English Sentence: ['Does', 'its', 'influence', 'increase', 'in', 'summer', '.']\n",
            "Reference Hindi Sentence: ['क्या', 'गर्मी', 'में', 'इसका', 'प्रकोप', 'बढ़', 'जाता', 'है', '?']\n",
            "Translated Sentence: ('\\ufeff', 'इसकी', 'गर्मी', 'वृद्धि', '।', 'में')\n",
            "Translation BLEU Scores [0.02944656445786981, 0.1482734016730676, 0.058544976940240134, 0.14391974145353192, 0.0648482666031204, 0.1841347489325958]\n",
            "\n",
            "Sentence Index:  34\n",
            "English Sentence: ['Administer', 'the', 'DPT', 'vaccine', 'to', 'the', 'child', '.']\n",
            "Reference Hindi Sentence: ['बच्चे', 'को', 'डीपीटी', 'का', 'टीका', 'लगायें', '।']\n",
            "Translated Sentence: ('’एण्टीबॉडी’', 'प्रवेश', 'अनुसार', 'प्रवेश', 'बच्चा', '।')\n",
            "Translation BLEU Scores [0.03455747170954952, 0.1869843520537038, 0.06870636427700044, 0.1688992412286964, 0.07240243729328812, 0.2340196377403126]\n",
            "\n",
            "Sentence Index:  35\n",
            "English Sentence: ['Get', 'eyes', 'checked', 'up', 'every', 'six', 'months', '.']\n",
            "Reference Hindi Sentence: ['हर', 'छह', 'माह', 'में', 'करें', 'आँखों', 'की', 'जाँच', '।']\n",
            "Translated Sentence: ('।', 'आँखों', 'ऊपर', 'हर', '।', 'महीने', 'महीने')\n",
            "Translation BLEU Scores [0.03266828640925502, 0.165998261506368, 0.06495032985064743, 0.19694692641710707, 0.08952782582237775, 0.24587846481804737]\n",
            "\n",
            "Sentence Index:  36\n",
            "English Sentence: ['Maintain', 'the', 'glass', 'or', 'contact', 'lens', '.']\n",
            "Reference Hindi Sentence: ['चश्मे', 'या', 'कांटैक्ट', 'लेंस', 'का', 'रखरखाव', 'करें', '।']\n",
            "Translated Sentence: ('’क्रिस्टल', 'प्रवेश', '।', 'या', '’फिलिप्स', '।')\n",
            "Translation BLEU Scores [0.03478700554542394, 0.1751643270174889, 0.06916271812933181, 0.1700210851830615, 0.0766091750078838, 0.21752950302192342]\n",
            "\n",
            "Sentence Index:  37\n",
            "English Sentence: ['Washing', 'eyes', 'regularly', '.']\n",
            "Reference Hindi Sentence: ['नियमित', 'आँखें', 'धोना', '।']\n",
            "Translated Sentence: ('।', 'आँखों', 'नियमित')\n",
            "Translation BLEU Scores [0.09681772177713914, 0.35826565528689464, 0.19249075038817748, 0.15904925047954097, 0.10725284501103732, 0.21927120367134406]\n",
            "\n",
            "Sentence Index:  38\n",
            "English Sentence: ['Everything', 'is', 'visible', 'so', 'clearly', '.']\n",
            "Reference Hindi Sentence: ['सब', 'कुछ', 'कितना', 'साफ', 'दिखता', 'है', '।']\n",
            "Translated Sentence: ('।', 'है', 'नजर', 'ताकि', '’आयूंध-नामनाथ’')\n",
            "Translation BLEU Scores [0.04282963710525157, 0.20252884954471367, 0.08515289178380434, 0.15846701826473467, 0.07740189180437576, 0.20327794960528028]\n",
            "\n",
            "Sentence Index:  39\n",
            "English Sentence: ['Coral', 'reef', 'is', 'the', 'life', 'here', '.']\n",
            "Reference Hindi Sentence: ['कोरल', 'रीफ', '(', 'मूँगा', 'चट्\\u200dटानें', ')', 'यहाँ', 'का', 'जीवन', 'हैं', '।']\n",
            "Translated Sentence: ('।', 'यहाँ', 'जीवन', '।', 'है', 'प्रवेश')\n",
            "Translation BLEU Scores [0.023350308364304222, 0.11416503340262572, 0.04642454187453896, 0.1141243606689327, 0.055758976149086814, 0.14331662427767866]\n",
            "\n",
            "Sentence Index:  40\n",
            "English Sentence: ['Every', 'thing', 'about', 'Maldive', 'was', 'overwhelming', '.']\n",
            "Reference Hindi Sentence: ['मालदीव', 'के', 'बारे', 'में', 'हर', 'बात', 'अभिभूत', 'करने', 'वाली', 'थी', '।']\n",
            "Translated Sentence: ('।', 'बात', 'बारे', '।', 'था')\n",
            "Translation BLEU Scores [0.02129764696972561, 0.09778809693469985, 0.042343488066592626, 0.07879998149537334, 0.042507558946323055, 0.10058500124032858]\n",
            "\n",
            "Sentence Index:  41\n",
            "English Sentence: ['This', 'room', 'was', 'actually', 'a', 'dining', 'room', '.']\n",
            "Reference Hindi Sentence: ['वह', 'कमरा', 'दरअसल', 'एक', 'डाइनिंग', 'रूम', 'था', '।']\n",
            "Translated Sentence: ('।', 'रोशनी', 'था', '’', 'रोशनी', 'ए', '।')\n",
            "Translation BLEU Scores [0.034052233956373766, 0.17820132316770917, 0.06770186228657868, 0.20529031524114758, 0.08738752502425957, 0.2638193908491072]\n",
            "\n",
            "Sentence Index:  42\n",
            "English Sentence: ['But', 'knew', 'it', 'was', 'not', 'possible', '.']\n",
            "Reference Hindi Sentence: ['लेकिन', 'जानते', 'थे', ',', 'यह', 'मुमकिन', 'नहीं', 'था', '।']\n",
            "Translated Sentence: ('।', 'था', 'इसे', 'नहीं', 'संभव', '।')\n",
            "Translation BLEU Scores [0.03258798048281462, 0.1593301391270729, 0.06479066746903603, 0.15927337575456868, 0.07781791992374447, 0.20001446156332303]\n",
            "\n",
            "Sentence Index:  43\n",
            "English Sentence: ['Anyway', 'we', 'reached', 'Ramnagar', 'at', '12', '.']\n",
            "Reference Hindi Sentence: ['खैर', 'हम', '12', 'बजे', 'रामनगर', 'पहुँच', 'गए', '।']\n",
            "Translated Sentence: ('पहुँचे', 'रात', '12', '।', 'हम')\n",
            "Translation BLEU Scores [0.03880684294761699, 0.1781815298791261, 0.0771548656802496, 0.14358292775314402, 0.07745382231480302, 0.18327782179730542]\n",
            "\n",
            "Sentence Index:  44\n",
            "English Sentence: ['While', 'returning', 'it', 'became', 'late', 'evening', '.']\n",
            "Reference Hindi Sentence: ['लौटते', 'देर', 'शाम', 'हो', 'गई', '।']\n",
            "Translated Sentence: ('बन', '।', 'शाम', '’', 'इसे', '।')\n",
            "Translation BLEU Scores [0.048549177170732344, 0.24446151121745052, 0.09652434877402241, 0.23728353900810106, 0.10691671651659736, 0.3035868772401984]\n",
            "\n",
            "Sentence Index:  45\n",
            "English Sentence: ['We', 'set', 'out', 'for', 'forest', 'inside', '.']\n",
            "Reference Hindi Sentence: ['हम', 'अंदर', 'जंगल', 'के', 'लिए', 'रवाना', 'हो', 'गए', '।']\n",
            "Translated Sentence: ('लिए', 'अन्दर', '।', 'वन', 'बाहर', '’')\n",
            "Translation BLEU Scores [0.02944656445786981, 0.1482734016730676, 0.058544976940240134, 0.14391974145353192, 0.0648482666031204, 0.1841347489325958]\n",
            "\n",
            "Sentence Index:  46\n",
            "English Sentence: ['I', 'photographed', 'profusely', '.']\n",
            "Reference Hindi Sentence: ['मैंने', 'जमकर', 'फोटोग्राफी', 'की', '।']\n",
            "Translated Sentence: ('।', '।', '।')\n",
            "Translation BLEU Scores [0.05833544737207805, 0.23196236872272216, 0.11598118436136108, 0.09583172388909193, 0.05489287257037576, 0.13167760291485414]\n",
            "\n",
            "Sentence Index:  47\n",
            "English Sentence: ['I', 'called', 'him', 'just', 'like', 'that', 'only', '.']\n",
            "Reference Hindi Sentence: ['मैंने', 'उसे', 'ऐसे', 'ही', 'फोन', 'लगा', 'दिया', '।']\n",
            "Translated Sentence: ('जैसी', 'कहा', 'उसे', 'सिर्फ', 'कि', '।', 'केवल')\n",
            "Translation BLEU Scores [0.034052233956373766, 0.17820132316770917, 0.06770186228657868, 0.20529031524114758, 0.08738752502425957, 0.2638193908491072]\n",
            "\n",
            "Sentence Index:  48\n",
            "English Sentence: ['He', 'asked', 'you', 'saw', 'tiger', 'or', 'not', '.']\n",
            "Reference Hindi Sentence: ['उसने', 'पूछा', 'टाइगर', 'देखा', 'या', 'नहीं', '।']\n",
            "Translated Sentence: ('’एडिस', '’', '’सरसों’', 'आप', 'या', '।', 'नहीं')\n",
            "Translation BLEU Scores [0.043472087194499145, 0.22089591134157885, 0.08643019616048525, 0.2620796772330101, 0.11913576983277992, 0.32719347222300477]\n",
            "\n",
            "Sentence Index:  49\n",
            "English Sentence: ['These', 'words', 'pricked', 'like', 'an', 'arrow', '.']\n",
            "Reference Hindi Sentence: ['उसके', 'यह', 'शब्द', 'तीर', 'की', 'तरह', 'चुभ', 'गए', '।']\n",
            "Translated Sentence: ('’जौंग’', '।', 'महत्त्वपूर्ण', 'जैसी', '।')\n",
            "Translation BLEU Scores [0.02414176971688927, 0.12267223791558803, 0.04799810699119213, 0.0893230604141688, 0.04035425308254256, 0.12194410442718785]\n",
            "\n",
            "Sentence Index:  50\n",
            "English Sentence: ['I', 'slowly', 'said', 'no', '.']\n",
            "Reference Hindi Sentence: ['मैंने', 'धीरे', 'से', 'कहा', ',', 'नहीं', '।']\n",
            "Translated Sentence: ('।', 'धीरे-धीरे', 'कहा', 'कोई')\n",
            "Translation BLEU Scores [0.045131921809482646, 0.1878296463217631, 0.08973024087021203, 0.10990031779775743, 0.06060465697360007, 0.14348435345097704]\n",
            "\n"
          ],
          "name": "stdout"
        }
      ]
    },
    {
      "cell_type": "code",
      "metadata": {
        "id": "zcR-JpzNT8gp",
        "colab": {
          "base_uri": "https://localhost:8080/"
        },
        "outputId": "f3870af3-97d1-4524-d11a-b608ba151312"
      },
      "source": [
        "# Results:\n",
        "import statistics\n",
        "print(\"Number of Samples Tested Upon: \" + str(tested))\n",
        "print()\n",
        "\n",
        "print(\"Average BLEU Score using Various Smoothing Functions (considering all test samples)\")\n",
        "for key in total_BLEU:\n",
        "    print(\"Method \" + str(key) + \": \" + str(total_BLEU[key] / tested))\n",
        "print()\n",
        "print(\"Average BLEU Score using Various Smoothing Functions (considering test samples with at-least one word overlap)\")\n",
        "for key in total_BLEU:\n",
        "    print(\"Method \" + str(key) + \": \" + str(total_BLEU[key] / (tested - null_BLEU_count)))"
      ],
      "execution_count": null,
      "outputs": [
        {
          "output_type": "stream",
          "text": [
            "Number of Samples Tested Upon: 50\n",
            "\n",
            "Average BLEU Score using Various Smoothing Functions (considering all test samples)\n",
            "Method 1: 0.04045334190563911\n",
            "Method 2: 0.18790274652264405\n",
            "Method 3: 0.08042839674590069\n",
            "Method 4: 0.15545775044775517\n",
            "Method 5: 0.07580429833529106\n",
            "Method 7: 0.2014522086114808\n",
            "\n",
            "Average BLEU Score using Various Smoothing Functions (considering test samples with at-least one word overlap)\n",
            "Method 1: 0.04127892031187664\n",
            "Method 2: 0.1917374964516776\n",
            "Method 3: 0.08206979259785784\n",
            "Method 4: 0.15863035759975017\n",
            "Method 5: 0.07735132483192965\n",
            "Method 7: 0.2055634781749804\n"
          ],
          "name": "stdout"
        }
      ]
    },
    {
      "cell_type": "code",
      "metadata": {
        "id": "BuXHPvjPeKyd"
      },
      "source": [
        "# ^_^ Thank You"
      ],
      "execution_count": null,
      "outputs": []
    }
  ]
}